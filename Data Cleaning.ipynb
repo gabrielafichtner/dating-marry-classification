{
 "cells": [
  {
   "cell_type": "markdown",
   "id": "dfe69e47",
   "metadata": {},
   "source": [
    "### First, the libraries i'm gonna use in this project"
   ]
  },
  {
   "cell_type": "code",
   "execution_count": 201,
   "id": "0d22a671",
   "metadata": {},
   "outputs": [],
   "source": [
    "import pandas as pd\n",
    "import numpy as np\n",
    "import matplotlib.pyplot as plt\n",
    "import seaborn as sns\n",
    "\n",
    "from sklearn.feature_extraction.text import CountVectorizer\n",
    "from sklearn.model_selection import train_test_split, GridSearchCV\n",
    "from sklearn.pipeline import Pipeline\n",
    "from sklearn.naive_bayes import MultinomialNB\n",
    "from sklearn.linear_model import LogisticRegression\n",
    "from sklearn.metrics import confusion_matrix, ConfusionMatrixDisplay\n",
    "\n",
    "from nltk.stem import WordNetLemmatizer, PorterStemmer\n",
    "from nltk.tokenize import sent_tokenize, word_tokenize, RegexpTokenizer\n",
    "from nltk.corpus import stopwords, wordnet\n",
    "from nltk.sentiment.vader import SentimentIntensityAnalyzer"
   ]
  },
  {
   "cell_type": "code",
   "execution_count": 202,
   "id": "95c440a7",
   "metadata": {},
   "outputs": [],
   "source": [
    "# reading the dataset of dating and marriage subreddits - generated in 'scraping'\n",
    "date_marry = pd.read_csv('output/marriage_dating.csv')\n",
    "date_marry.drop(columns = 'Unnamed: 0', inplace = True)"
   ]
  },
  {
   "cell_type": "code",
   "execution_count": 203,
   "id": "7b4c8e32",
   "metadata": {},
   "outputs": [
    {
     "data": {
      "text/html": [
       "<div>\n",
       "<style scoped>\n",
       "    .dataframe tbody tr th:only-of-type {\n",
       "        vertical-align: middle;\n",
       "    }\n",
       "\n",
       "    .dataframe tbody tr th {\n",
       "        vertical-align: top;\n",
       "    }\n",
       "\n",
       "    .dataframe thead th {\n",
       "        text-align: right;\n",
       "    }\n",
       "</style>\n",
       "<table border=\"1\" class=\"dataframe\">\n",
       "  <thead>\n",
       "    <tr style=\"text-align: right;\">\n",
       "      <th></th>\n",
       "      <th>title</th>\n",
       "      <th>self_text</th>\n",
       "      <th>subreddit</th>\n",
       "    </tr>\n",
       "  </thead>\n",
       "  <tbody>\n",
       "    <tr>\n",
       "      <th>0</th>\n",
       "      <td>What does it mean when a girl says I don’t fee...</td>\n",
       "      <td>I had a date yesterday and I thought it was ok...</td>\n",
       "      <td>dating</td>\n",
       "    </tr>\n",
       "    <tr>\n",
       "      <th>1</th>\n",
       "      <td>why do some guys get hurt/bothered if you slee...</td>\n",
       "      <td>My ex recently found out I hooked up with some...</td>\n",
       "      <td>dating</td>\n",
       "    </tr>\n",
       "    <tr>\n",
       "      <th>2</th>\n",
       "      <td>Worst era to ever date in as a guy.</td>\n",
       "      <td>Is there a single (attractive) young woman (ea...</td>\n",
       "      <td>dating</td>\n",
       "    </tr>\n",
       "    <tr>\n",
       "      <th>3</th>\n",
       "      <td>Why do some men hate \"Vanilla women\"?</td>\n",
       "      <td>Hiya. Earlier today I got called a \"vanilla wo...</td>\n",
       "      <td>dating</td>\n",
       "    </tr>\n",
       "    <tr>\n",
       "      <th>4</th>\n",
       "      <td>Guys the Victim mentality WONT help you</td>\n",
       "      <td>I've been couple of years in this sub and that...</td>\n",
       "      <td>dating</td>\n",
       "    </tr>\n",
       "  </tbody>\n",
       "</table>\n",
       "</div>"
      ],
      "text/plain": [
       "                                               title  \\\n",
       "0  What does it mean when a girl says I don’t fee...   \n",
       "1  why do some guys get hurt/bothered if you slee...   \n",
       "2                Worst era to ever date in as a guy.   \n",
       "3              Why do some men hate \"Vanilla women\"?   \n",
       "4            Guys the Victim mentality WONT help you   \n",
       "\n",
       "                                           self_text subreddit  \n",
       "0  I had a date yesterday and I thought it was ok...    dating  \n",
       "1  My ex recently found out I hooked up with some...    dating  \n",
       "2  Is there a single (attractive) young woman (ea...    dating  \n",
       "3  Hiya. Earlier today I got called a \"vanilla wo...    dating  \n",
       "4  I've been couple of years in this sub and that...    dating  "
      ]
     },
     "execution_count": 203,
     "metadata": {},
     "output_type": "execute_result"
    }
   ],
   "source": [
    "date_marry.head()"
   ]
  },
  {
   "cell_type": "code",
   "execution_count": 204,
   "id": "8de01a83",
   "metadata": {},
   "outputs": [
    {
     "data": {
      "text/plain": [
       "title        0\n",
       "self_text    0\n",
       "subreddit    0\n",
       "dtype: int64"
      ]
     },
     "execution_count": 204,
     "metadata": {},
     "output_type": "execute_result"
    }
   ],
   "source": [
    "date_marry.isna().sum()"
   ]
  },
  {
   "cell_type": "code",
   "execution_count": 205,
   "id": "ad621e06",
   "metadata": {},
   "outputs": [],
   "source": [
    "# Changing subreddit column to numeric\n",
    "# 'dating' is 1, 'marriage' is 0\n",
    "date_marry['subreddit'] = (date_marry['subreddit']=='dating')*1"
   ]
  },
  {
   "cell_type": "code",
   "execution_count": 206,
   "id": "94de896a",
   "metadata": {},
   "outputs": [
    {
     "data": {
      "text/html": [
       "<div>\n",
       "<style scoped>\n",
       "    .dataframe tbody tr th:only-of-type {\n",
       "        vertical-align: middle;\n",
       "    }\n",
       "\n",
       "    .dataframe tbody tr th {\n",
       "        vertical-align: top;\n",
       "    }\n",
       "\n",
       "    .dataframe thead th {\n",
       "        text-align: right;\n",
       "    }\n",
       "</style>\n",
       "<table border=\"1\" class=\"dataframe\">\n",
       "  <thead>\n",
       "    <tr style=\"text-align: right;\">\n",
       "      <th></th>\n",
       "      <th>title</th>\n",
       "      <th>self_text</th>\n",
       "      <th>subreddit</th>\n",
       "    </tr>\n",
       "  </thead>\n",
       "  <tbody>\n",
       "    <tr>\n",
       "      <th>0</th>\n",
       "      <td>What does it mean when a girl says I don’t fee...</td>\n",
       "      <td>I had a date yesterday and I thought it was ok...</td>\n",
       "      <td>1</td>\n",
       "    </tr>\n",
       "    <tr>\n",
       "      <th>1</th>\n",
       "      <td>why do some guys get hurt/bothered if you slee...</td>\n",
       "      <td>My ex recently found out I hooked up with some...</td>\n",
       "      <td>1</td>\n",
       "    </tr>\n",
       "    <tr>\n",
       "      <th>2</th>\n",
       "      <td>Worst era to ever date in as a guy.</td>\n",
       "      <td>Is there a single (attractive) young woman (ea...</td>\n",
       "      <td>1</td>\n",
       "    </tr>\n",
       "    <tr>\n",
       "      <th>3</th>\n",
       "      <td>Why do some men hate \"Vanilla women\"?</td>\n",
       "      <td>Hiya. Earlier today I got called a \"vanilla wo...</td>\n",
       "      <td>1</td>\n",
       "    </tr>\n",
       "    <tr>\n",
       "      <th>4</th>\n",
       "      <td>Guys the Victim mentality WONT help you</td>\n",
       "      <td>I've been couple of years in this sub and that...</td>\n",
       "      <td>1</td>\n",
       "    </tr>\n",
       "  </tbody>\n",
       "</table>\n",
       "</div>"
      ],
      "text/plain": [
       "                                               title  \\\n",
       "0  What does it mean when a girl says I don’t fee...   \n",
       "1  why do some guys get hurt/bothered if you slee...   \n",
       "2                Worst era to ever date in as a guy.   \n",
       "3              Why do some men hate \"Vanilla women\"?   \n",
       "4            Guys the Victim mentality WONT help you   \n",
       "\n",
       "                                           self_text  subreddit  \n",
       "0  I had a date yesterday and I thought it was ok...          1  \n",
       "1  My ex recently found out I hooked up with some...          1  \n",
       "2  Is there a single (attractive) young woman (ea...          1  \n",
       "3  Hiya. Earlier today I got called a \"vanilla wo...          1  \n",
       "4  I've been couple of years in this sub and that...          1  "
      ]
     },
     "execution_count": 206,
     "metadata": {},
     "output_type": "execute_result"
    }
   ],
   "source": [
    "date_marry.head()"
   ]
  },
  {
   "cell_type": "code",
   "execution_count": 207,
   "id": "11b84e56",
   "metadata": {},
   "outputs": [
    {
     "data": {
      "text/plain": [
       "(7658, 3)"
      ]
     },
     "execution_count": 207,
     "metadata": {},
     "output_type": "execute_result"
    }
   ],
   "source": [
    "# Checking the size of the dataset\n",
    "date_marry.shape"
   ]
  },
  {
   "cell_type": "code",
   "execution_count": 208,
   "id": "c9c55986",
   "metadata": {},
   "outputs": [
    {
     "data": {
      "text/plain": [
       "(7658, 3)"
      ]
     },
     "execution_count": 208,
     "metadata": {},
     "output_type": "execute_result"
    }
   ],
   "source": [
    "# Checking if there are duplicates\n",
    "date_marry.drop_duplicates(inplace=True)\n",
    "date_marry.shape"
   ]
  },
  {
   "cell_type": "code",
   "execution_count": 209,
   "id": "205a8243",
   "metadata": {},
   "outputs": [
    {
     "data": {
      "text/plain": [
       "1    0.599373\n",
       "0    0.400627\n",
       "Name: subreddit, dtype: float64"
      ]
     },
     "execution_count": 209,
     "metadata": {},
     "output_type": "execute_result"
    }
   ],
   "source": [
    "# Checking the baseline of the dataset\n",
    "date_marry['subreddit'].value_counts(normalize=True)"
   ]
  },
  {
   "cell_type": "markdown",
   "id": "30764c00",
   "metadata": {},
   "source": [
    "### First, "
   ]
  },
  {
   "cell_type": "markdown",
   "id": "74a552e3",
   "metadata": {},
   "source": [
    "### Analyzing some specific words"
   ]
  },
  {
   "cell_type": "code",
   "execution_count": 210,
   "id": "a863a839",
   "metadata": {},
   "outputs": [],
   "source": [
    "husband = date_marry['title'].str.lower().str.contains('husband')\n",
    "wife = date_marry['title'].str.lower().str.contains('wife')\n",
    "wedding = date_marry['title'].str.lower().str.contains('wedding')\n",
    "marry = date_marry['title'].str.lower().str.contains('marry')\n",
    "date_marry['marriage_keywords'] = (husband | wife | wedding | marry)\n",
    "date_marry['marriage_keywords'] = date_marry['marriage_keywords'].astype(int)"
   ]
  },
  {
   "cell_type": "code",
   "execution_count": 211,
   "id": "3eedce21",
   "metadata": {},
   "outputs": [
    {
     "data": {
      "image/png": "[encoded data removed]",
      "text/plain": [
       "<Figure size 640x480 with 1 Axes>"
      ]
     },
     "metadata": {},
     "output_type": "display_data"
    }
   ],
   "source": [
    "date_marry.groupby('subreddit')['marriage_keywords'].value_counts(normalize=True).unstack(level = 1).plot(kind = 'bar')\n",
    "plt.xticks([0, 1], ['Marriage', 'Dating']);\n"
   ]
  },
  {
   "cell_type": "markdown",
   "id": "8d4ed7a9",
   "metadata": {},
   "source": [
    "From the graph above, it is possible to see that aproximately 40% of marriage subreddits have \"husband\", \"wife\", \"wedding\" or \"marry\" in the title, while almost 100% of the dating's subreddit titles do not mention these words. This could facilitate a lot the model to predict from which subreddit the post came from... first, let's see how the model performs. If it's too easy, maybe i'll make it more challenging by removing words that are too specific of the subreddits ;)"
   ]
  },
  {
   "cell_type": "code",
   "execution_count": 212,
   "id": "0836482d",
   "metadata": {},
   "outputs": [],
   "source": [
    "boyfriend = date_marry['title'].str.lower().str.contains('boyfriend')\n",
    "girlfriend = date_marry['title'].str.lower().str.contains('girlfriend')\n",
    "bf = date_marry['title'].str.lower().str.contains('bf')\n",
    "gf = date_marry['title'].str.lower().str.contains('gf')\n",
    "date_marry['dating_keywords'] = (boyfriend | girlfriend | bf | gf)\n",
    "date_marry['dating_keywords'] = date_marry['dating_keywords'].astype(int)"
   ]
  },
  {
   "cell_type": "code",
   "execution_count": 213,
   "id": "dde119da",
   "metadata": {},
   "outputs": [
    {
     "data": {
      "image/png": "[encoded data removed]",
      "text/plain": [
       "<Figure size 640x480 with 1 Axes>"
      ]
     },
     "metadata": {},
     "output_type": "display_data"
    }
   ],
   "source": [
    "date_marry.groupby('subreddit')['dating_keywords'].value_counts(normalize=True).unstack(level = 1).plot(kind = 'bar')\n",
    "plt.xticks([0, 1], ['Marriage', 'Dating']);"
   ]
  },
  {
   "cell_type": "markdown",
   "id": "41ab16c9",
   "metadata": {},
   "source": [
    "> # Most common words in marriage and dating"
   ]
  },
  {
   "cell_type": "markdown",
   "id": "b4a69b1f",
   "metadata": {},
   "source": [
    "## With stop words"
   ]
  },
  {
   "cell_type": "code",
   "execution_count": 230,
   "id": "43f9018d",
   "metadata": {},
   "outputs": [],
   "source": [
    "# Redefine training and testing sets.\n",
    "X = date_marry[date_marry['subreddit']==0]['self_text']\n",
    "y = date_marry['subreddit']\n",
    "cvec = CountVectorizer()"
   ]
  },
  {
   "cell_type": "code",
   "execution_count": 231,
   "id": "f4504c17",
   "metadata": {},
   "outputs": [],
   "source": [
    "X = cvec.fit_transform(X)"
   ]
  },
  {
   "cell_type": "code",
   "execution_count": 232,
   "id": "cfb01009",
   "metadata": {},
   "outputs": [
    {
     "data": {
      "text/plain": [
       "Text(0.5, 1.0, 'Marriage most common words')"
      ]
     },
     "execution_count": 232,
     "metadata": {},
     "output_type": "execute_result"
    },
    {
     "data": {
      "image/png": "[encoded data removed]",
      "text/plain": [
       "<Figure size 640x480 with 1 Axes>"
      ]
     },
     "metadata": {},
     "output_type": "display_data"
    }
   ],
   "source": [
    "X_df = pd.DataFrame(X.todense(), columns = cvec.get_feature_names_out())\n",
    "X_df.sum().sort_values(ascending=False)[:10].plot(kind='barh')\n",
    "plt.title('Marriage most common words')"
   ]
  },
  {
   "cell_type": "markdown",
   "id": "42ab835c",
   "metadata": {},
   "source": [
    "Dating most common words"
   ]
  },
  {
   "cell_type": "code",
   "execution_count": 233,
   "id": "165af7eb",
   "metadata": {},
   "outputs": [],
   "source": [
    "# Redefine training and testing sets.\n",
    "X = date_marry[date_marry['subreddit']==1]['self_text']\n",
    "y = date_marry['subreddit']\n",
    "cvec = CountVectorizer()"
   ]
  },
  {
   "cell_type": "code",
   "execution_count": 234,
   "id": "946d02e8",
   "metadata": {},
   "outputs": [],
   "source": [
    "X = cvec.fit_transform(X)"
   ]
  },
  {
   "cell_type": "code",
   "execution_count": 235,
   "id": "2d230c78",
   "metadata": {},
   "outputs": [
    {
     "data": {
      "text/plain": [
       "Text(0.5, 1.0, 'Dating most common words')"
      ]
     },
     "execution_count": 235,
     "metadata": {},
     "output_type": "execute_result"
    },
    {
     "data": {
      "image/png": "[encoded data removed]",
      "text/plain": [
       "<Figure size 640x480 with 1 Axes>"
      ]
     },
     "metadata": {},
     "output_type": "display_data"
    }
   ],
   "source": [
    "X_df = pd.DataFrame(X.todense(), columns = cvec.get_feature_names_out())\n",
    "X_df.sum().sort_values(ascending=False)[:10].plot(kind='barh')\n",
    "plt.title('Dating most common words')"
   ]
  },
  {
   "cell_type": "markdown",
   "id": "6ab832ee",
   "metadata": {},
   "source": [
    "## Without stop words"
   ]
  },
  {
   "cell_type": "code",
   "execution_count": 236,
   "id": "982c80ed",
   "metadata": {},
   "outputs": [],
   "source": [
    "# Redefine training and testing sets.\n",
    "X = date_marry[date_marry['subreddit']==0]['self_text']\n",
    "y = date_marry['subreddit']\n",
    "cvec = CountVectorizer(stop_words='english')"
   ]
  },
  {
   "cell_type": "code",
   "execution_count": 237,
   "id": "90a9c610",
   "metadata": {},
   "outputs": [],
   "source": [
    "X = cvec.fit_transform(X)"
   ]
  },
  {
   "cell_type": "code",
   "execution_count": 238,
   "id": "c4521e45",
   "metadata": {},
   "outputs": [
    {
     "data": {
      "text/plain": [
       "Text(0.5, 1.0, 'Marriage most common words')"
      ]
     },
     "execution_count": 238,
     "metadata": {},
     "output_type": "execute_result"
    },
    {
     "data": {
      "image/png": "[encoded data removed]",
      "text/plain": [
       "<Figure size 640x480 with 1 Axes>"
      ]
     },
     "metadata": {},
     "output_type": "display_data"
    }
   ],
   "source": [
    "X_df = pd.DataFrame(X.todense(), columns = cvec.get_feature_names_out())\n",
    "X_df.sum().sort_values(ascending=False)[:10].plot(kind='barh')\n",
    "plt.title('Marriage most common words')"
   ]
  },
  {
   "cell_type": "code",
   "execution_count": null,
   "id": "f35f94ef",
   "metadata": {},
   "outputs": [],
   "source": [
    "date_marry['self_text']"
   ]
  },
  {
   "cell_type": "code",
   "execution_count": 239,
   "id": "67e95ea5",
   "metadata": {},
   "outputs": [],
   "source": [
    "# Redefine training and testing sets.\n",
    "X = date_marry[date_marry['subreddit']==1]['self_text']\n",
    "y = date_marry['subreddit']\n",
    "cvec = CountVectorizer(stop_words='english')"
   ]
  },
  {
   "cell_type": "code",
   "execution_count": 240,
   "id": "163f1451",
   "metadata": {},
   "outputs": [],
   "source": [
    "X = cvec.fit_transform(X)"
   ]
  },
  {
   "cell_type": "code",
   "execution_count": 241,
   "id": "244d4466",
   "metadata": {},
   "outputs": [
    {
     "data": {
      "text/plain": [
       "Text(0.5, 1.0, 'Dating most common words')"
      ]
     },
     "execution_count": 241,
     "metadata": {},
     "output_type": "execute_result"
    },
    {
     "data": {
      "image/png": "[encoded data removed]",
      "text/plain": [
       "<Figure size 640x480 with 1 Axes>"
      ]
     },
     "metadata": {},
     "output_type": "display_data"
    }
   ],
   "source": [
    "X_df = pd.DataFrame(X.todense(), columns = cvec.get_feature_names_out())\n",
    "X_df.sum().sort_values(ascending=False)[:10].plot(kind='barh')\n",
    "plt.title('Dating most common words')"
   ]
  },
  {
   "cell_type": "code",
   "execution_count": null,
   "id": "e409b493",
   "metadata": {},
   "outputs": [],
   "source": []
  },
  {
   "cell_type": "markdown",
   "id": "70218e5a",
   "metadata": {},
   "source": [
    "# Special characters - are there differences between subreddits?"
   ]
  },
  {
   "cell_type": "markdown",
   "id": "0a4fec6e",
   "metadata": {},
   "source": [
    "### Counting special characters and checking if there are differences between subreddits"
   ]
  },
  {
   "cell_type": "code",
   "execution_count": 214,
   "id": "8cf455ea",
   "metadata": {},
   "outputs": [
    {
     "data": {
      "text/plain": [
       "0        155\n",
       "1         53\n",
       "2         54\n",
       "3        141\n",
       "4        239\n",
       "        ... \n",
       "7653     111\n",
       "7654    1019\n",
       "7655      14\n",
       "7656     516\n",
       "7657     117\n",
       "Name: special_characters, Length: 7658, dtype: int64"
      ]
     },
     "execution_count": 214,
     "metadata": {},
     "output_type": "execute_result"
    }
   ],
   "source": [
    "# code adapted from stack overflow\n",
    "# https://stackoverflow.com/questions/59687650/how-to-count-special-chars-in-column-in-pandas\n",
    "date_marry[\"special_characters\"] = date_marry[\"self_text\"].apply(lambda x: sum(not c.isalpha() for c in x ))\n",
    "date_marry[\"special_characters\"]"
   ]
  },
  {
   "cell_type": "code",
   "execution_count": 215,
   "id": "a702dac2",
   "metadata": {},
   "outputs": [
    {
     "data": {
      "text/html": [
       "<div>\n",
       "<style scoped>\n",
       "    .dataframe tbody tr th:only-of-type {\n",
       "        vertical-align: middle;\n",
       "    }\n",
       "\n",
       "    .dataframe tbody tr th {\n",
       "        vertical-align: top;\n",
       "    }\n",
       "\n",
       "    .dataframe thead th {\n",
       "        text-align: right;\n",
       "    }\n",
       "</style>\n",
       "<table border=\"1\" class=\"dataframe\">\n",
       "  <thead>\n",
       "    <tr style=\"text-align: right;\">\n",
       "      <th></th>\n",
       "      <th>count</th>\n",
       "      <th>mean</th>\n",
       "      <th>std</th>\n",
       "      <th>min</th>\n",
       "      <th>25%</th>\n",
       "      <th>50%</th>\n",
       "      <th>75%</th>\n",
       "      <th>max</th>\n",
       "    </tr>\n",
       "    <tr>\n",
       "      <th>subreddit</th>\n",
       "      <th></th>\n",
       "      <th></th>\n",
       "      <th></th>\n",
       "      <th></th>\n",
       "      <th></th>\n",
       "      <th></th>\n",
       "      <th></th>\n",
       "      <th></th>\n",
       "    </tr>\n",
       "  </thead>\n",
       "  <tbody>\n",
       "    <tr>\n",
       "      <th>0</th>\n",
       "      <td>3068.0</td>\n",
       "      <td>338.818123</td>\n",
       "      <td>363.127990</td>\n",
       "      <td>0.0</td>\n",
       "      <td>115.75</td>\n",
       "      <td>242.0</td>\n",
       "      <td>441.0</td>\n",
       "      <td>4660.0</td>\n",
       "    </tr>\n",
       "    <tr>\n",
       "      <th>1</th>\n",
       "      <td>4590.0</td>\n",
       "      <td>227.426797</td>\n",
       "      <td>236.988225</td>\n",
       "      <td>8.0</td>\n",
       "      <td>82.00</td>\n",
       "      <td>161.0</td>\n",
       "      <td>292.0</td>\n",
       "      <td>4286.0</td>\n",
       "    </tr>\n",
       "  </tbody>\n",
       "</table>\n",
       "</div>"
      ],
      "text/plain": [
       "            count        mean         std  min     25%    50%    75%     max\n",
       "subreddit                                                                   \n",
       "0          3068.0  338.818123  363.127990  0.0  115.75  242.0  441.0  4660.0\n",
       "1          4590.0  227.426797  236.988225  8.0   82.00  161.0  292.0  4286.0"
      ]
     },
     "execution_count": 215,
     "metadata": {},
     "output_type": "execute_result"
    }
   ],
   "source": [
    "date_marry.groupby('subreddit')['special_characters'].describe()"
   ]
  },
  {
   "cell_type": "code",
   "execution_count": 216,
   "id": "24ae73b9",
   "metadata": {},
   "outputs": [
    {
     "name": "stdout",
     "output_type": "stream",
     "text": [
      "**Final Edit I promise!** \n",
      "\n",
      "*Don't worry y'all, I'll be a distant part of your short-term internet memory in like 12 hours.* \n",
      "\n",
      "*Trigger warning- the following portion will add another 300 words or so. If you're averse to reading long things, go to Twitter.* \n",
      "\n",
      "For those (there were a tiny few) who enjoyed my writing or my \"candor,\" feel free to \"follow\" me on Reddit. I tend to fixate on a subject on Reddit about once a month, I write 2 to 3 pages on it, and then, typically, I get a mixture of temper tantrums, 'amen brothers' in my DMs, and angry people who read the first 25 words and assume they've read it all. \n",
      "\n",
      "For those who insisted on calling me names, using insulting adjectives, or (my least favorite) using all the vocab they learned in Berne Brown's TED Talk to psychoanalyze me while they are angrily typing away on their phones, what do you think your purpose was? Those of us who've (not proud of this) argued with trump supporters or AOC supporters or anti-vaxxers or steelers fans, on social media- we all know name calling has NEVER EVER convinced anyone of anything. So... what's the purpose? Is it to get 17 upvotes from folks who agree with you? Is it to be extremely clever with your words? On this one, I'm genuinely curious. What's the intention? \n",
      "\n",
      "Had anyone DM'ed me (or posted) and -*to be clear, not saying this is anyone's responsibility, but I am saying it'd push me a bit to your side -* said, \"Hey, I know you think checking out a girl is harmless, however it happens to me a lot and it makes me feel... because....\" I could have been swayed. However, \"you're a disgusting creep and I hope we never meet\" did NOTHING for anyone. \n",
      "\n",
      "For those who either complained about the length of the post or admitted to only reading the first few lines, what're you doing here? Wouldn't it be just as easy to keep scrolling? Those of us who've obtained any sort of higher education know that reading half a book or half an article and whipping up a response gets you an F and a red question mark scribbled on the paper. I don't claim to be Hemingway (or even dr. seuss), but if you're going to get a genuine emotion from any \"piece of work,\" you might be served by understanding it in is entirety. \n",
      "\n",
      "Also, consider that your opinions on many of these issues are your opinions. They're not \"truth.\" Full disclosure, I like to consider myself \"funny\" and \"smart\" and when my wife laughs at other guy's jokes, it induces a pang of jealousy... she NEVER laughs at my jokes (maybe 4x per year, but not often). When we're at a dinner party and she's clearly intrigued by another man's intellectual insight, it kinda hurts me. I am simultaneously 100% sure that those are MY issues, and they have nothing to do with her or the dude she's so impressed by. Tons of people are funny and tons of people are smart and the idea that appreciating that means she \"settled\" or means that she's somehow comparing us is ludicrous. The assertion that she's disrespecting me... also ludicrous. It's possible that some men are funnier than me, it's possible that some men are just differently funny than me, it's possible that my wife loves me for 10,000 reasons and my funniness isn't one of them. All of those things are okay. Women repeatedly say they want to be with a man who makes them laugh... yet, when they laugh at jokes, we don't immediately assume they'll fuck the guy and leave their husband in the dust. \n",
      "\n",
      "If a dude on this sub said, \"I'm upset because my wife laughs at other men's jokes all the time,\" this sub would downvote him straight to hell and tease him the entire time. They'd talk about his self esteem, his need for therapy, his un-funniness, etc. If a woman mentions her husband appreciating other women's looks, however.... game over. Why is this subject so so so different? \n",
      "\n",
      "In our decade together, I've caught my wife staring at dudes about half a dozen times. Sure, some part of me said, \"oh shit. is he hotter than me? should I lift weights? should I shave my chest? fuck that guy he's a bitch, etc.\" But I also was able to say, \"Understandable, that guy is pretty hot. He works for his looks in ways that I don't. I'm 99.9% sure she'll still come home with me tonight. And she'll likely forget him by the time the salads are on the table.\" So... is my wife a \"sleaze\" or did a hot dude walk past her? Am I being disrespected? Or are there a bazillion attractive people on Earth? And was he \"disrespected?\" or did he just catch her eye due to his nice pecs and smooth chest? \n",
      "\n",
      "Finally, Dozens of dudes DM'ed me (afraid of the mob or afraid of their wives who follow this sub too?) thanking me and admitting that they, too are in the same boat. Perhaps these are the same dudes who posted, \"My wife is 53 years old and looks like Beyonce and Kardashian had a child together... I NEVER look at other women.\" Dozens of women DM'ed me and said their husbands do this and this post helped with the insecurity... perhaps these are the same women who posted, \"My husband isn't a monster so he knows not to do this.\" And a ton of women DM'ed me to say this happens to them (being stared at) and its flattering. For those who said, this is objectification and objectification is always wrong, consider those who might like it. I'd never say dudes staring at women is a \"blessing to be appreciated,\" but just because you hate it, some may be different. \n",
      "\n",
      "In closing, and I say this as a previous \"let's argue with trump supporters 24/7\" facebook nut, if anything on reddit or socials makes you this upset, consider (apologies for my armchair psychological advice after criticizing y'all for the same thing) playing wordle and watching air-fryer youtube videos and scrolling on when something upsets you. You'll be happier with it in the long run.   \n",
      "\n",
      "&#x200B;\n",
      "\n",
      "\\*\\*\\*Edits based on Comments.... Main post below.\n",
      "\n",
      "* This entire post was created to give a different perspective that you can like or dislike to puke on or whatever, but it's just a perspective. It's not here to defend anyone, to offend anyone, or to argue for what's \"right\" ... surely somewhere on Reddit as we speak, there's a post entitled \"What Putin wants in Ukraine\"- one can read that, understand it, appreciate it, and NOT be on Putin's side.\n",
      "* If you read this as \"I'm innocent and can stare at anyone I want,\" you didn't read, you skimmed and let reactive biases lead you. Shame on you for making assumptions.\n",
      "* If you wrote \"eww\" or \"that's gross\" or whatever... please ask yourself what you're adding to the conversation and what the purpose is. I just don't get it.\n",
      "* If you read thoroughly and had insightful comments, I applaud you!\n",
      "* To be clear, it is ALWAYS possible to disagree with a post and still be thoughtful and engaged, but if all you have in your war chest is \"boastful, smug, etc.,\" I question what you read or what baggage you brought with you.\n",
      "* To clarify, there's the \"slightly longer than normal\" look reserved for sexy people, fancy cars, recycling placed in a garbage can, etc. and there's the \"you're looking so long, you're either gonna murder the person or eat them,\" look. My post is \"in defensive of\" the former, not the latter- nobody (as if it needed to be said) should be looking at you so long that it makes them want to jump out of their skin, and men (regardless of testosterone, horniness, etc.) get no excuse for doing so.\n",
      "* One commenter complained that men stare at his 14 yr old daughter- though my post didn't specify (apologies to those who preferred this written more clearly), there's an age where this is absolutely creepy and inexcusable behavior, and 14 would def fall into that.\n",
      "* A thoughtful pushback many shared is.... \"Women aren't objects\" / \"Even if your GF is cool with it, you don't have the right to stare,\" etc. To this... I do think it's important to differentiate between prolonged stares that are noticed and unwarranted and the other type that last a bit longer than normal, but goes unnoticed. The former sucks, I am sorry to the women (or men) who've experienced that, and I'm sure it was shitty at the time/ all the time. Regarding the latter.... I'm not sure what the harm is. If you're out in public (not being spied on through a bathroom window) and you don't notice it at all and a dude looked at you for 2 full seconds, was anyone hurt? If Dwayne the Rock Johnson walked by and you looked at him for 3 seconds, was he hurt by that? Is it any different if it's Megan Fox? Or if it's just a super attractive un-famous person?  What about when someone wears a shirt with a funny logo and you look and giggle and tell a friend and they giggle too... objectified? If a woman walks by with shimmering hair and it's bouncing as she walks, not okay to look?\n",
      "* Finally, tons of people said something along the lines of \"I\"m not just tits and ass\"/ \"My face is up here, don't look at my breasts,\" etc. Is there somewhere in my post where I mentioned specific body parts? I, too, would dislike it if I were at the beach and someone insisted on staring at my bellybutton or my knee or my nipple... but, this isn't really what I was talking about. A thorough reading might help.\n",
      "\n",
      "**MAIN POST**\n",
      "\n",
      "The title here is a bit misleading, but if you were interested enough to open this, please read on.\n",
      "\n",
      "I’ve seen a TON (3x per week??) of posts in/ around this subject and, typically, it’s from the wife’s perspective, and -also typically- the highest rated comments are other women telling OP why her husband is an asshole and when she should file divorce papers.\n",
      "\n",
      "I’m noticing the “gawking male’s” perspective is often missing here and this prohibits a thorough discussion. For those who’ve decided to move on and leave the guy, surely, “he’s an A-hole!” Is sufficient, and for those who’ve chosen to squash the behavior in its tracks, surely, “tell him to stop or it’s over” is sufficient. For those who are a bit more curious about the behavior, or their partner, I’m hoping this can help.\n",
      "\n",
      "**Here goes:**\n",
      "\n",
      "I’m a recovering “gawker” (male 39) and I’m happy to perform a bit of an AMA here.\n",
      "\n",
      "I’m saying SUPER up front that I’m not the model citizen nor the best self I hope to be here, so telling me why you dislike my behavior won’t be necessary…\n",
      "\n",
      "&#x200B;\n",
      "\n",
      "* I’ve stared, like legitimately stared, at attractive women since I was 12 or 13\n",
      "* If and when I’m noticed (by her or by her besty or her bf) I know to look down and pretend I was looking at the sunset or whatever\n",
      "* But if not caught, I can stare for a pretty damn long time\n",
      "* I know this will seem contradictory given a previous statement, but when staring without being caught, I legitimately don’t notice I’m doing it\n",
      "* FWIW, I stare at shit all the time, ie I’m driving and think I see a Ferrari and before I know it, I’m staring at that car when I should be looking at the road\n",
      "* Or I’m walking and see two random dudes arguing and I become fixated on the drama and sit and stare while other more polite folks know to go about their business.\n",
      "* I can’t specify an age specifically, but can absolutely say that there are attractive people women much younger than me and I’m sure (assuming I’m not caught) I inadvertently stare at them.\n",
      "* I can also there’s a gap between who I may stare at (age-wise) and who (assuming I wasn’t happily married) I’d considering being intimate with. i.e. I may (rough estimates here, used as placeholders) stare at a 22 yr old, but also find it immoral (and just plain uninteresting) to date or sleep with a woman that age.\n",
      "* I can also say my father (passed away a decade ago, he was a wonderful father, don’t drag him into your rebuttals please) did this, and my mother stares at people (not sext girls, but anyone she finds peculiar, i.e. someone with a ton of tattoos, someone with purple hair, someone wearing a heavy coat in the summer, etc.). She does this often, gets called out often, and legitimately has no idea what she did wrong.\n",
      "\n",
      "**The previous bullets are all written in present tense, but, as noted above, I am “in recovery,” and these are really previous truths for me.**\n",
      "\n",
      "* About a decade ago, I met an extremely beautiful woman and we started dating and we’re now married and expecting a kid and I couldn’t be happier.\n",
      "* When we began dating, I knew she was a catch and I did a bazillion things to impress her/ keep her around. I worked really hard to show her I was 100% into her.\n",
      "* Simultaneously, I stared at women all the time and she called me out on it. ALL THE TIME\n",
      "* Often, once she alerted me to it, I realized what I was doing and also realized my GF was ten times more attractive than the random girl I was staring at.\n",
      "* This helped me realize a few things\n",
      "   * This behavior is a compulsion, as opposed to an intentional act\n",
      "   * There was no intention to do it, let alone be caught by my GF, so the assumption that anyone does it to intentionally hurt their SO is ludicrous. While surely some SO’s somewhere do this specifically to be hurtful, the assumption that that’s always the case is just not true\n",
      "   * I’d been doing this in front of girlfriends for years and surely got “caught” but was just never called out on it.\n",
      "* Once I realized how upsetting this was to my GF, I made a serious effort not to do it. I hated hurting her and I hated the arguments that clearly could have been avoided.\n",
      "* My then GF, now wife will tell you it took years for me to stop this. And not because I was dragging my feet, but because it was impulsive and unconscious behavior.\n",
      "* If I were to plot out the number of times I started at women in a month, beginning at our first few arguments and ending today, it’d be an upside down “diminishing returns” type of thing, nearing ZERO as I write this.\n",
      "* My wife and I are now very close to 40 and 20 or 25 year olds still exist and still look attractive. That said, I no longer have to “remind” myself not to stare. It’s like quitting sugar or cigarettes- eventually it just becomes a habit.\n",
      "* I can confidently say that, even when I’m out and about without my wife, I don’t stare because I’m super conscious of this behavior and why it’s not really a nice thing to do.\n",
      "\n",
      "**There's Hope....**\n",
      "\n",
      "* My GF (now wife) and I met when I was nearly 30. I began puberty at 12. I'd spent 18 years happily (or accidentally) staring at whomever the hell I wanted to. It took time to change this behavior and to notice it.\n",
      "* Three months ago, my wife and I spent a week in a resort in Mexico. Everywhere we looked there were women in bikinis. It didn't occur to me once to stare at them or even to check them out.\n",
      "* I'm not sure if my wife noticed, but I am sure that I've changed and that this huge issue (that women on Reddit would have screamed about 8 years ago) is gone now. We're happy and she was able to stick with me through a time of shit because she understood the gap between my intentions and my impact.\n",
      "\n",
      "**A few straw men I’ve seen tossed around often in these posts**\n",
      "\n",
      "* “My husband would NEVER look at another woman!” You might be right, but he also might just be super good at hiding it. Just for funsies, next time you’re in a well-trafficked place, find an attractive woman and follow her with your eyes while noticing the dudes (those unaccompanied by SO’s) looking at her. It’s way more common than many women on these posts seem to believe. It’s (dare I say??) the norm in many situations.\n",
      "* “My husband tells me I’m the most beautiful, therefore he doesn’t need to do this!” It’s extremely possible for men to be attracted to 2 (or 200) people at once. Assuming that his “admiration” for one woman somehow lessens his interest in another is just, plain wrong.\n",
      "* “He’s blatantly disrespecting you!” Maybe, but… does he know he’s doing it? Does he know how it affects you? Does he know why it affects you that way? Does this mirror any of his other behaviors, i.e. Is he just kinda oblivious often??\n",
      "\n",
      "**Advice/ suggestions for women in this situation:**\n",
      "\n",
      "* If you notice this behavior, bring it up in the moment, not on the car ride home. In the past, my GF (now wife) would wait 4 hours and then say, “I saw you checking out a girl at brunch.” And, for the life of me, I couldn’t remember what she was talking about, who it could have been, if she was mistaken, etc. If I’d known at the moment, I would have at least known if it was true or not.\n",
      "* Try really, really, really hard to let him know why it upsets you. For years, my GF had called me out on this, but she tended just to get pissed off, to call me names, and to tell me how “disgusting, offensive, pathetic, etc” this behavior was. It wasn’t until she caught me one night on a vacation (Ironically, she was mistaken that evening) and she said- “I saw you staring at that woman who was so much thinner than me.” And that’s when it clicked. I had always thought of my GF (now wife) and EXTREMELY beautiful and EXTREMELY sexy. I’d never once considered her fat at all. It wasn’t until she made that comment about the other girl’s weight that I realized, my GF had felt compared to these other women and had been affected by her own ideas about her weight. This helped me see how hurtful this had been and also helped me address the conversation as: “I think you’re sexy asfuck, I am super attracted to you, I think your weight is perfect, and anytime I do stare, it’s not about you at all.”\n",
      "* Don’t allow him to disregard your feelings, simply because, for him (like me) it’s a habit, it’s not about you, etc. If you are truly hurt by this behavior, tell him that and give him time to change, while also reminding him of how important it is.\n",
      "* Recognize that he and you may see this issue SUPER differently, and while that shouldn’t squash your feelings, it should alleviate any poor assumptions you’re making (I.e. He doesn’t love me. I’m not attractive to him, etc.)\n",
      "* Recognize that, in a healthy marriage, we all must change behaviors we find innocuous because they hurt the other person. I HATE it when dirty dishes are left in the sink. My wife honestly doesn't care. I've expressed it a million times, and she (99%) of the time avoids leaving the dishes, not because she cares, but because she knows I care. This issue is pretty damn similar, meaning- even if his intentions are \"pure,\" if he respects you and values your feelings, he'll make the effort to change- but you've gotta be patient. And if he can't make that effort, my guess is that he's slacking in other areas too?\n",
      "* Notice any changes in behavior and consider any correlations: If there’s a recent “uptick” in this behavior, does it correlate to sex frequency, arguments, changes in you or his other behaviors, etc.? I can say, for sure, I was less likely to stare at anyone if we’d recently had sex. Had we gone 2 weeks without sex, perhaps my stare frequency might have gone up. Or… If we’d been connecting less that day, perhaps that’d cause my stare frequency to increase. This isn't to place blame on anyone for this behavior- but it is worth getting at the cause!\n",
      "\n",
      "If you’ve made it this far, I’m amazed. I barely made it this far. I am more than happy to answer questions, address any confusion or inconsistencies, etc. I strongly believe that (on both sides of a marriage) misinterpretation and legitimate gender-based differences cause people to argue unnecessarily. I think glossing over those differences is a mistake and leads to resentment. If I can help anyone avoid that, I’m more than happy to seem kinda like an asshole on Reddit.\n"
     ]
    }
   ],
   "source": [
    "most_special_characters = date_marry[date_marry[\"special_characters\"]==4660]['self_text']\n",
    "for string in most_special_characters:\n",
    "    print(string)"
   ]
  },
  {
   "cell_type": "code",
   "execution_count": 217,
   "id": "12d4878c",
   "metadata": {},
   "outputs": [
    {
     "data": {
      "image/png": "[encoded data removed]",
      "text/plain": [
       "<Figure size 640x480 with 1 Axes>"
      ]
     },
     "metadata": {},
     "output_type": "display_data"
    }
   ],
   "source": [
    "sns.boxplot(x=\"subreddit\", y=\"special_characters\",data=date_marry)\n",
    "plt.xticks([0, 1], ['Marriage', 'Dating']);"
   ]
  },
  {
   "cell_type": "code",
   "execution_count": 218,
   "id": "0bfc1894",
   "metadata": {},
   "outputs": [
    {
     "data": {
      "image/png": "[encoded data removed]",
      "text/plain": [
       "<Figure size 640x480 with 1 Axes>"
      ]
     },
     "metadata": {},
     "output_type": "display_data"
    }
   ],
   "source": [
    "sns.boxplot(x=\"subreddit\", y=\"special_characters\",data=date_marry[date_marry['special_characters']<1000])\n",
    "plt.xticks([0, 1], ['Marriage', 'Dating']);"
   ]
  },
  {
   "cell_type": "markdown",
   "id": "a58f4f95",
   "metadata": {},
   "source": [
    "It looks there is a difference of the number of special characters per posts between the subreddits... <br>"
   ]
  },
  {
   "cell_type": "code",
   "execution_count": null,
   "id": "60811e40",
   "metadata": {},
   "outputs": [],
   "source": [
    "# Most common in marriage"
   ]
  },
  {
   "cell_type": "code",
   "execution_count": null,
   "id": "f424e9f3",
   "metadata": {},
   "outputs": [],
   "source": []
  },
  {
   "cell_type": "code",
   "execution_count": null,
   "id": "bda3da60",
   "metadata": {},
   "outputs": [],
   "source": [
    "# Most common in dating"
   ]
  },
  {
   "cell_type": "code",
   "execution_count": null,
   "id": "ed9b3572",
   "metadata": {},
   "outputs": [],
   "source": []
  },
  {
   "cell_type": "markdown",
   "id": "87e6c0e7",
   "metadata": {},
   "source": [
    "# Removing special characters"
   ]
  },
  {
   "cell_type": "markdown",
   "id": "1d472546",
   "metadata": {},
   "source": [
    "To get the content of the message and"
   ]
  },
  {
   "cell_type": "code",
   "execution_count": 220,
   "id": "b2ce0c37",
   "metadata": {},
   "outputs": [],
   "source": [
    "# Code adapted from chat gpt - asked for a regex to remove characters that werent letters and keep the space\n",
    "date_marry['self_text'] = date_marry['self_text'].str.replace(\"’\", \"'\", regex=True)\n",
    "date_marry['self_text'] = date_marry['self_text'].str.replace(r'[^A-Za-z\\s\\']', '', regex=True)"
   ]
  },
  {
   "cell_type": "code",
   "execution_count": 221,
   "id": "22858165",
   "metadata": {},
   "outputs": [
    {
     "data": {
      "text/plain": [
       "0       I had a date yesterday and I thought it was ok...\n",
       "1       My ex recently found out I hooked up with some...\n",
       "2       Is there a single attractive young woman early...\n",
       "3       Hiya Earlier today I got called a vanilla woma...\n",
       "4       I've been couple of years in this sub and that...\n",
       "                              ...                        \n",
       "7653    \\nWhat is the consensus when cheating happens ...\n",
       "7654    I'm struggling and don't know what to do Sorry...\n",
       "7655    What do you do if you husband or wife became c...\n",
       "7656    I'm  a teacher who is off during the summer wh...\n",
       "7657    Occasionally will take time off from work and ...\n",
       "Name: self_text, Length: 7658, dtype: object"
      ]
     },
     "execution_count": 221,
     "metadata": {},
     "output_type": "execute_result"
    }
   ],
   "source": [
    "date_marry['self_text']"
   ]
  },
  {
   "cell_type": "code",
   "execution_count": 222,
   "id": "cddf7c56",
   "metadata": {},
   "outputs": [],
   "source": [
    "X = date_marry['self_text']\n",
    "y = date_marry['subreddit']\n",
    "\n",
    "X_train, X_test, y_train, y_test = train_test_split(X, y, random_state = 1906)"
   ]
  },
  {
   "cell_type": "code",
   "execution_count": 223,
   "id": "439bdb02",
   "metadata": {},
   "outputs": [],
   "source": [
    "pipe_cvec = Pipeline([\n",
    "    ('cvec', CountVectorizer()),\n",
    "    ('logreg', LogisticRegression())    \n",
    "])"
   ]
  },
  {
   "cell_type": "code",
   "execution_count": 224,
   "id": "b9ca961b",
   "metadata": {},
   "outputs": [
    {
     "data": {
      "text/plain": [
       "{'memory': None,\n",
       " 'steps': [('cvec', CountVectorizer()), ('logreg', LogisticRegression())],\n",
       " 'verbose': False,\n",
       " 'cvec': CountVectorizer(),\n",
       " 'logreg': LogisticRegression(),\n",
       " 'cvec__analyzer': 'word',\n",
       " 'cvec__binary': False,\n",
       " 'cvec__decode_error': 'strict',\n",
       " 'cvec__dtype': numpy.int64,\n",
       " 'cvec__encoding': 'utf-8',\n",
       " 'cvec__input': 'content',\n",
       " 'cvec__lowercase': True,\n",
       " 'cvec__max_df': 1.0,\n",
       " 'cvec__max_features': None,\n",
       " 'cvec__min_df': 1,\n",
       " 'cvec__ngram_range': (1, 1),\n",
       " 'cvec__preprocessor': None,\n",
       " 'cvec__stop_words': None,\n",
       " 'cvec__strip_accents': None,\n",
       " 'cvec__token_pattern': '(?u)\\\\b\\\\w\\\\w+\\\\b',\n",
       " 'cvec__tokenizer': None,\n",
       " 'cvec__vocabulary': None,\n",
       " 'logreg__C': 1.0,\n",
       " 'logreg__class_weight': None,\n",
       " 'logreg__dual': False,\n",
       " 'logreg__fit_intercept': True,\n",
       " 'logreg__intercept_scaling': 1,\n",
       " 'logreg__l1_ratio': None,\n",
       " 'logreg__max_iter': 100,\n",
       " 'logreg__multi_class': 'auto',\n",
       " 'logreg__n_jobs': None,\n",
       " 'logreg__penalty': 'l2',\n",
       " 'logreg__random_state': None,\n",
       " 'logreg__solver': 'lbfgs',\n",
       " 'logreg__tol': 0.0001,\n",
       " 'logreg__verbose': 0,\n",
       " 'logreg__warm_start': False}"
      ]
     },
     "execution_count": 224,
     "metadata": {},
     "output_type": "execute_result"
    }
   ],
   "source": [
    "pipe_cvec.get_params()"
   ]
  },
  {
   "cell_type": "code",
   "execution_count": 225,
   "id": "5d1f334c",
   "metadata": {},
   "outputs": [],
   "source": [
    "pipe_cvec_params = {\n",
    "    'cvec__max_features': [None, 2000, 3000, 4000, 5000],\n",
    "    'cvec__stop_words': [None, \"english\"],\n",
    "    'cvec__ngram_range': [(1, 1), (1, 2)]\n",
    "}"
   ]
  },
  {
   "cell_type": "code",
   "execution_count": 226,
   "id": "5cf173d7",
   "metadata": {},
   "outputs": [],
   "source": [
    "gs_cvec = GridSearchCV(pipe_cvec,\n",
    "                     param_grid = pipe_cvec_params,\n",
    "                    cv = 5)"
   ]
  },
  {
   "cell_type": "code",
   "execution_count": 227,
   "id": "aab67e74",
   "metadata": {},
   "outputs": [
    {
     "name": "stderr",
     "output_type": "stream",
     "text": [
      "/Users/gabrielafichtner/anaconda3/lib/python3.10/site-packages/sklearn/linear_model/_logistic.py:458: ConvergenceWarning: lbfgs failed to converge (status=1):\n",
      "STOP: TOTAL NO. of ITERATIONS REACHED LIMIT.\n",
      "\n",
      "Increase the number of iterations (max_iter) or scale the data as shown in:\n",
      "    https://scikit-learn.org/stable/modules/preprocessing.html\n",
      "Please also refer to the documentation for alternative solver options:\n",
      "    https://scikit-learn.org/stable/modules/linear_model.html#logistic-regression\n",
      "  n_iter_i = _check_optimize_result(\n",
      "/Users/gabrielafichtner/anaconda3/lib/python3.10/site-packages/sklearn/linear_model/_logistic.py:458: ConvergenceWarning: lbfgs failed to converge (status=1):\n",
      "STOP: TOTAL NO. of ITERATIONS REACHED LIMIT.\n",
      "\n",
      "Increase the number of iterations (max_iter) or scale the data as shown in:\n",
      "    https://scikit-learn.org/stable/modules/preprocessing.html\n",
      "Please also refer to the documentation for alternative solver options:\n",
      "    https://scikit-learn.org/stable/modules/linear_model.html#logistic-regression\n",
      "  n_iter_i = _check_optimize_result(\n",
      "/Users/gabrielafichtner/anaconda3/lib/python3.10/site-packages/sklearn/linear_model/_logistic.py:458: ConvergenceWarning: lbfgs failed to converge (status=1):\n",
      "STOP: TOTAL NO. of ITERATIONS REACHED LIMIT.\n",
      "\n",
      "Increase the number of iterations (max_iter) or scale the data as shown in:\n",
      "    https://scikit-learn.org/stable/modules/preprocessing.html\n",
      "Please also refer to the documentation for alternative solver options:\n",
      "    https://scikit-learn.org/stable/modules/linear_model.html#logistic-regression\n",
      "  n_iter_i = _check_optimize_result(\n",
      "/Users/gabrielafichtner/anaconda3/lib/python3.10/site-packages/sklearn/linear_model/_logistic.py:458: ConvergenceWarning: lbfgs failed to converge (status=1):\n",
      "STOP: TOTAL NO. of ITERATIONS REACHED LIMIT.\n",
      "\n",
      "Increase the number of iterations (max_iter) or scale the data as shown in:\n",
      "    https://scikit-learn.org/stable/modules/preprocessing.html\n",
      "Please also refer to the documentation for alternative solver options:\n",
      "    https://scikit-learn.org/stable/modules/linear_model.html#logistic-regression\n",
      "  n_iter_i = _check_optimize_result(\n",
      "/Users/gabrielafichtner/anaconda3/lib/python3.10/site-packages/sklearn/linear_model/_logistic.py:458: ConvergenceWarning: lbfgs failed to converge (status=1):\n",
      "STOP: TOTAL NO. of ITERATIONS REACHED LIMIT.\n",
      "\n",
      "Increase the number of iterations (max_iter) or scale the data as shown in:\n",
      "    https://scikit-learn.org/stable/modules/preprocessing.html\n",
      "Please also refer to the documentation for alternative solver options:\n",
      "    https://scikit-learn.org/stable/modules/linear_model.html#logistic-regression\n",
      "  n_iter_i = _check_optimize_result(\n",
      "/Users/gabrielafichtner/anaconda3/lib/python3.10/site-packages/sklearn/linear_model/_logistic.py:458: ConvergenceWarning: lbfgs failed to converge (status=1):\n",
      "STOP: TOTAL NO. of ITERATIONS REACHED LIMIT.\n",
      "\n",
      "Increase the number of iterations (max_iter) or scale the data as shown in:\n",
      "    https://scikit-learn.org/stable/modules/preprocessing.html\n",
      "Please also refer to the documentation for alternative solver options:\n",
      "    https://scikit-learn.org/stable/modules/linear_model.html#logistic-regression\n",
      "  n_iter_i = _check_optimize_result(\n",
      "/Users/gabrielafichtner/anaconda3/lib/python3.10/site-packages/sklearn/linear_model/_logistic.py:458: ConvergenceWarning: lbfgs failed to converge (status=1):\n",
      "STOP: TOTAL NO. of ITERATIONS REACHED LIMIT.\n",
      "\n",
      "Increase the number of iterations (max_iter) or scale the data as shown in:\n",
      "    https://scikit-learn.org/stable/modules/preprocessing.html\n",
      "Please also refer to the documentation for alternative solver options:\n",
      "    https://scikit-learn.org/stable/modules/linear_model.html#logistic-regression\n",
      "  n_iter_i = _check_optimize_result(\n",
      "/Users/gabrielafichtner/anaconda3/lib/python3.10/site-packages/sklearn/linear_model/_logistic.py:458: ConvergenceWarning: lbfgs failed to converge (status=1):\n",
      "STOP: TOTAL NO. of ITERATIONS REACHED LIMIT.\n",
      "\n",
      "Increase the number of iterations (max_iter) or scale the data as shown in:\n",
      "    https://scikit-learn.org/stable/modules/preprocessing.html\n",
      "Please also refer to the documentation for alternative solver options:\n",
      "    https://scikit-learn.org/stable/modules/linear_model.html#logistic-regression\n",
      "  n_iter_i = _check_optimize_result(\n",
      "/Users/gabrielafichtner/anaconda3/lib/python3.10/site-packages/sklearn/linear_model/_logistic.py:458: ConvergenceWarning: lbfgs failed to converge (status=1):\n",
      "STOP: TOTAL NO. of ITERATIONS REACHED LIMIT.\n",
      "\n",
      "Increase the number of iterations (max_iter) or scale the data as shown in:\n",
      "    https://scikit-learn.org/stable/modules/preprocessing.html\n",
      "Please also refer to the documentation for alternative solver options:\n",
      "    https://scikit-learn.org/stable/modules/linear_model.html#logistic-regression\n",
      "  n_iter_i = _check_optimize_result(\n",
      "/Users/gabrielafichtner/anaconda3/lib/python3.10/site-packages/sklearn/linear_model/_logistic.py:458: ConvergenceWarning: lbfgs failed to converge (status=1):\n",
      "STOP: TOTAL NO. of ITERATIONS REACHED LIMIT.\n",
      "\n",
      "Increase the number of iterations (max_iter) or scale the data as shown in:\n",
      "    https://scikit-learn.org/stable/modules/preprocessing.html\n",
      "Please also refer to the documentation for alternative solver options:\n",
      "    https://scikit-learn.org/stable/modules/linear_model.html#logistic-regression\n",
      "  n_iter_i = _check_optimize_result(\n",
      "/Users/gabrielafichtner/anaconda3/lib/python3.10/site-packages/sklearn/linear_model/_logistic.py:458: ConvergenceWarning: lbfgs failed to converge (status=1):\n",
      "STOP: TOTAL NO. of ITERATIONS REACHED LIMIT.\n",
      "\n",
      "Increase the number of iterations (max_iter) or scale the data as shown in:\n",
      "    https://scikit-learn.org/stable/modules/preprocessing.html\n",
      "Please also refer to the documentation for alternative solver options:\n",
      "    https://scikit-learn.org/stable/modules/linear_model.html#logistic-regression\n",
      "  n_iter_i = _check_optimize_result(\n",
      "/Users/gabrielafichtner/anaconda3/lib/python3.10/site-packages/sklearn/linear_model/_logistic.py:458: ConvergenceWarning: lbfgs failed to converge (status=1):\n",
      "STOP: TOTAL NO. of ITERATIONS REACHED LIMIT.\n",
      "\n",
      "Increase the number of iterations (max_iter) or scale the data as shown in:\n",
      "    https://scikit-learn.org/stable/modules/preprocessing.html\n",
      "Please also refer to the documentation for alternative solver options:\n",
      "    https://scikit-learn.org/stable/modules/linear_model.html#logistic-regression\n",
      "  n_iter_i = _check_optimize_result(\n",
      "/Users/gabrielafichtner/anaconda3/lib/python3.10/site-packages/sklearn/linear_model/_logistic.py:458: ConvergenceWarning: lbfgs failed to converge (status=1):\n",
      "STOP: TOTAL NO. of ITERATIONS REACHED LIMIT.\n",
      "\n",
      "Increase the number of iterations (max_iter) or scale the data as shown in:\n",
      "    https://scikit-learn.org/stable/modules/preprocessing.html\n",
      "Please also refer to the documentation for alternative solver options:\n",
      "    https://scikit-learn.org/stable/modules/linear_model.html#logistic-regression\n",
      "  n_iter_i = _check_optimize_result(\n",
      "/Users/gabrielafichtner/anaconda3/lib/python3.10/site-packages/sklearn/linear_model/_logistic.py:458: ConvergenceWarning: lbfgs failed to converge (status=1):\n",
      "STOP: TOTAL NO. of ITERATIONS REACHED LIMIT.\n",
      "\n",
      "Increase the number of iterations (max_iter) or scale the data as shown in:\n",
      "    https://scikit-learn.org/stable/modules/preprocessing.html\n",
      "Please also refer to the documentation for alternative solver options:\n",
      "    https://scikit-learn.org/stable/modules/linear_model.html#logistic-regression\n",
      "  n_iter_i = _check_optimize_result(\n",
      "/Users/gabrielafichtner/anaconda3/lib/python3.10/site-packages/sklearn/linear_model/_logistic.py:458: ConvergenceWarning: lbfgs failed to converge (status=1):\n",
      "STOP: TOTAL NO. of ITERATIONS REACHED LIMIT.\n",
      "\n",
      "Increase the number of iterations (max_iter) or scale the data as shown in:\n",
      "    https://scikit-learn.org/stable/modules/preprocessing.html\n",
      "Please also refer to the documentation for alternative solver options:\n",
      "    https://scikit-learn.org/stable/modules/linear_model.html#logistic-regression\n",
      "  n_iter_i = _check_optimize_result(\n",
      "/Users/gabrielafichtner/anaconda3/lib/python3.10/site-packages/sklearn/linear_model/_logistic.py:458: ConvergenceWarning: lbfgs failed to converge (status=1):\n",
      "STOP: TOTAL NO. of ITERATIONS REACHED LIMIT.\n",
      "\n",
      "Increase the number of iterations (max_iter) or scale the data as shown in:\n",
      "    https://scikit-learn.org/stable/modules/preprocessing.html\n",
      "Please also refer to the documentation for alternative solver options:\n",
      "    https://scikit-learn.org/stable/modules/linear_model.html#logistic-regression\n",
      "  n_iter_i = _check_optimize_result(\n"
     ]
    },
    {
     "name": "stderr",
     "output_type": "stream",
     "text": [
      "/Users/gabrielafichtner/anaconda3/lib/python3.10/site-packages/sklearn/linear_model/_logistic.py:458: ConvergenceWarning: lbfgs failed to converge (status=1):\n",
      "STOP: TOTAL NO. of ITERATIONS REACHED LIMIT.\n",
      "\n",
      "Increase the number of iterations (max_iter) or scale the data as shown in:\n",
      "    https://scikit-learn.org/stable/modules/preprocessing.html\n",
      "Please also refer to the documentation for alternative solver options:\n",
      "    https://scikit-learn.org/stable/modules/linear_model.html#logistic-regression\n",
      "  n_iter_i = _check_optimize_result(\n",
      "/Users/gabrielafichtner/anaconda3/lib/python3.10/site-packages/sklearn/linear_model/_logistic.py:458: ConvergenceWarning: lbfgs failed to converge (status=1):\n",
      "STOP: TOTAL NO. of ITERATIONS REACHED LIMIT.\n",
      "\n",
      "Increase the number of iterations (max_iter) or scale the data as shown in:\n",
      "    https://scikit-learn.org/stable/modules/preprocessing.html\n",
      "Please also refer to the documentation for alternative solver options:\n",
      "    https://scikit-learn.org/stable/modules/linear_model.html#logistic-regression\n",
      "  n_iter_i = _check_optimize_result(\n",
      "/Users/gabrielafichtner/anaconda3/lib/python3.10/site-packages/sklearn/linear_model/_logistic.py:458: ConvergenceWarning: lbfgs failed to converge (status=1):\n",
      "STOP: TOTAL NO. of ITERATIONS REACHED LIMIT.\n",
      "\n",
      "Increase the number of iterations (max_iter) or scale the data as shown in:\n",
      "    https://scikit-learn.org/stable/modules/preprocessing.html\n",
      "Please also refer to the documentation for alternative solver options:\n",
      "    https://scikit-learn.org/stable/modules/linear_model.html#logistic-regression\n",
      "  n_iter_i = _check_optimize_result(\n",
      "/Users/gabrielafichtner/anaconda3/lib/python3.10/site-packages/sklearn/linear_model/_logistic.py:458: ConvergenceWarning: lbfgs failed to converge (status=1):\n",
      "STOP: TOTAL NO. of ITERATIONS REACHED LIMIT.\n",
      "\n",
      "Increase the number of iterations (max_iter) or scale the data as shown in:\n",
      "    https://scikit-learn.org/stable/modules/preprocessing.html\n",
      "Please also refer to the documentation for alternative solver options:\n",
      "    https://scikit-learn.org/stable/modules/linear_model.html#logistic-regression\n",
      "  n_iter_i = _check_optimize_result(\n",
      "/Users/gabrielafichtner/anaconda3/lib/python3.10/site-packages/sklearn/linear_model/_logistic.py:458: ConvergenceWarning: lbfgs failed to converge (status=1):\n",
      "STOP: TOTAL NO. of ITERATIONS REACHED LIMIT.\n",
      "\n",
      "Increase the number of iterations (max_iter) or scale the data as shown in:\n",
      "    https://scikit-learn.org/stable/modules/preprocessing.html\n",
      "Please also refer to the documentation for alternative solver options:\n",
      "    https://scikit-learn.org/stable/modules/linear_model.html#logistic-regression\n",
      "  n_iter_i = _check_optimize_result(\n",
      "/Users/gabrielafichtner/anaconda3/lib/python3.10/site-packages/sklearn/linear_model/_logistic.py:458: ConvergenceWarning: lbfgs failed to converge (status=1):\n",
      "STOP: TOTAL NO. of ITERATIONS REACHED LIMIT.\n",
      "\n",
      "Increase the number of iterations (max_iter) or scale the data as shown in:\n",
      "    https://scikit-learn.org/stable/modules/preprocessing.html\n",
      "Please also refer to the documentation for alternative solver options:\n",
      "    https://scikit-learn.org/stable/modules/linear_model.html#logistic-regression\n",
      "  n_iter_i = _check_optimize_result(\n",
      "/Users/gabrielafichtner/anaconda3/lib/python3.10/site-packages/sklearn/linear_model/_logistic.py:458: ConvergenceWarning: lbfgs failed to converge (status=1):\n",
      "STOP: TOTAL NO. of ITERATIONS REACHED LIMIT.\n",
      "\n",
      "Increase the number of iterations (max_iter) or scale the data as shown in:\n",
      "    https://scikit-learn.org/stable/modules/preprocessing.html\n",
      "Please also refer to the documentation for alternative solver options:\n",
      "    https://scikit-learn.org/stable/modules/linear_model.html#logistic-regression\n",
      "  n_iter_i = _check_optimize_result(\n",
      "/Users/gabrielafichtner/anaconda3/lib/python3.10/site-packages/sklearn/linear_model/_logistic.py:458: ConvergenceWarning: lbfgs failed to converge (status=1):\n",
      "STOP: TOTAL NO. of ITERATIONS REACHED LIMIT.\n",
      "\n",
      "Increase the number of iterations (max_iter) or scale the data as shown in:\n",
      "    https://scikit-learn.org/stable/modules/preprocessing.html\n",
      "Please also refer to the documentation for alternative solver options:\n",
      "    https://scikit-learn.org/stable/modules/linear_model.html#logistic-regression\n",
      "  n_iter_i = _check_optimize_result(\n",
      "/Users/gabrielafichtner/anaconda3/lib/python3.10/site-packages/sklearn/linear_model/_logistic.py:458: ConvergenceWarning: lbfgs failed to converge (status=1):\n",
      "STOP: TOTAL NO. of ITERATIONS REACHED LIMIT.\n",
      "\n",
      "Increase the number of iterations (max_iter) or scale the data as shown in:\n",
      "    https://scikit-learn.org/stable/modules/preprocessing.html\n",
      "Please also refer to the documentation for alternative solver options:\n",
      "    https://scikit-learn.org/stable/modules/linear_model.html#logistic-regression\n",
      "  n_iter_i = _check_optimize_result(\n",
      "/Users/gabrielafichtner/anaconda3/lib/python3.10/site-packages/sklearn/linear_model/_logistic.py:458: ConvergenceWarning: lbfgs failed to converge (status=1):\n",
      "STOP: TOTAL NO. of ITERATIONS REACHED LIMIT.\n",
      "\n",
      "Increase the number of iterations (max_iter) or scale the data as shown in:\n",
      "    https://scikit-learn.org/stable/modules/preprocessing.html\n",
      "Please also refer to the documentation for alternative solver options:\n",
      "    https://scikit-learn.org/stable/modules/linear_model.html#logistic-regression\n",
      "  n_iter_i = _check_optimize_result(\n",
      "/Users/gabrielafichtner/anaconda3/lib/python3.10/site-packages/sklearn/linear_model/_logistic.py:458: ConvergenceWarning: lbfgs failed to converge (status=1):\n",
      "STOP: TOTAL NO. of ITERATIONS REACHED LIMIT.\n",
      "\n",
      "Increase the number of iterations (max_iter) or scale the data as shown in:\n",
      "    https://scikit-learn.org/stable/modules/preprocessing.html\n",
      "Please also refer to the documentation for alternative solver options:\n",
      "    https://scikit-learn.org/stable/modules/linear_model.html#logistic-regression\n",
      "  n_iter_i = _check_optimize_result(\n",
      "/Users/gabrielafichtner/anaconda3/lib/python3.10/site-packages/sklearn/linear_model/_logistic.py:458: ConvergenceWarning: lbfgs failed to converge (status=1):\n",
      "STOP: TOTAL NO. of ITERATIONS REACHED LIMIT.\n",
      "\n",
      "Increase the number of iterations (max_iter) or scale the data as shown in:\n",
      "    https://scikit-learn.org/stable/modules/preprocessing.html\n",
      "Please also refer to the documentation for alternative solver options:\n",
      "    https://scikit-learn.org/stable/modules/linear_model.html#logistic-regression\n",
      "  n_iter_i = _check_optimize_result(\n",
      "/Users/gabrielafichtner/anaconda3/lib/python3.10/site-packages/sklearn/linear_model/_logistic.py:458: ConvergenceWarning: lbfgs failed to converge (status=1):\n",
      "STOP: TOTAL NO. of ITERATIONS REACHED LIMIT.\n",
      "\n",
      "Increase the number of iterations (max_iter) or scale the data as shown in:\n",
      "    https://scikit-learn.org/stable/modules/preprocessing.html\n",
      "Please also refer to the documentation for alternative solver options:\n",
      "    https://scikit-learn.org/stable/modules/linear_model.html#logistic-regression\n",
      "  n_iter_i = _check_optimize_result(\n",
      "/Users/gabrielafichtner/anaconda3/lib/python3.10/site-packages/sklearn/linear_model/_logistic.py:458: ConvergenceWarning: lbfgs failed to converge (status=1):\n",
      "STOP: TOTAL NO. of ITERATIONS REACHED LIMIT.\n",
      "\n",
      "Increase the number of iterations (max_iter) or scale the data as shown in:\n",
      "    https://scikit-learn.org/stable/modules/preprocessing.html\n",
      "Please also refer to the documentation for alternative solver options:\n",
      "    https://scikit-learn.org/stable/modules/linear_model.html#logistic-regression\n",
      "  n_iter_i = _check_optimize_result(\n",
      "/Users/gabrielafichtner/anaconda3/lib/python3.10/site-packages/sklearn/linear_model/_logistic.py:458: ConvergenceWarning: lbfgs failed to converge (status=1):\n",
      "STOP: TOTAL NO. of ITERATIONS REACHED LIMIT.\n",
      "\n",
      "Increase the number of iterations (max_iter) or scale the data as shown in:\n",
      "    https://scikit-learn.org/stable/modules/preprocessing.html\n",
      "Please also refer to the documentation for alternative solver options:\n",
      "    https://scikit-learn.org/stable/modules/linear_model.html#logistic-regression\n",
      "  n_iter_i = _check_optimize_result(\n",
      "/Users/gabrielafichtner/anaconda3/lib/python3.10/site-packages/sklearn/linear_model/_logistic.py:458: ConvergenceWarning: lbfgs failed to converge (status=1):\n",
      "STOP: TOTAL NO. of ITERATIONS REACHED LIMIT.\n",
      "\n",
      "Increase the number of iterations (max_iter) or scale the data as shown in:\n",
      "    https://scikit-learn.org/stable/modules/preprocessing.html\n",
      "Please also refer to the documentation for alternative solver options:\n",
      "    https://scikit-learn.org/stable/modules/linear_model.html#logistic-regression\n",
      "  n_iter_i = _check_optimize_result(\n"
     ]
    },
    {
     "name": "stderr",
     "output_type": "stream",
     "text": [
      "/Users/gabrielafichtner/anaconda3/lib/python3.10/site-packages/sklearn/linear_model/_logistic.py:458: ConvergenceWarning: lbfgs failed to converge (status=1):\n",
      "STOP: TOTAL NO. of ITERATIONS REACHED LIMIT.\n",
      "\n",
      "Increase the number of iterations (max_iter) or scale the data as shown in:\n",
      "    https://scikit-learn.org/stable/modules/preprocessing.html\n",
      "Please also refer to the documentation for alternative solver options:\n",
      "    https://scikit-learn.org/stable/modules/linear_model.html#logistic-regression\n",
      "  n_iter_i = _check_optimize_result(\n",
      "/Users/gabrielafichtner/anaconda3/lib/python3.10/site-packages/sklearn/linear_model/_logistic.py:458: ConvergenceWarning: lbfgs failed to converge (status=1):\n",
      "STOP: TOTAL NO. of ITERATIONS REACHED LIMIT.\n",
      "\n",
      "Increase the number of iterations (max_iter) or scale the data as shown in:\n",
      "    https://scikit-learn.org/stable/modules/preprocessing.html\n",
      "Please also refer to the documentation for alternative solver options:\n",
      "    https://scikit-learn.org/stable/modules/linear_model.html#logistic-regression\n",
      "  n_iter_i = _check_optimize_result(\n",
      "/Users/gabrielafichtner/anaconda3/lib/python3.10/site-packages/sklearn/linear_model/_logistic.py:458: ConvergenceWarning: lbfgs failed to converge (status=1):\n",
      "STOP: TOTAL NO. of ITERATIONS REACHED LIMIT.\n",
      "\n",
      "Increase the number of iterations (max_iter) or scale the data as shown in:\n",
      "    https://scikit-learn.org/stable/modules/preprocessing.html\n",
      "Please also refer to the documentation for alternative solver options:\n",
      "    https://scikit-learn.org/stable/modules/linear_model.html#logistic-regression\n",
      "  n_iter_i = _check_optimize_result(\n",
      "/Users/gabrielafichtner/anaconda3/lib/python3.10/site-packages/sklearn/linear_model/_logistic.py:458: ConvergenceWarning: lbfgs failed to converge (status=1):\n",
      "STOP: TOTAL NO. of ITERATIONS REACHED LIMIT.\n",
      "\n",
      "Increase the number of iterations (max_iter) or scale the data as shown in:\n",
      "    https://scikit-learn.org/stable/modules/preprocessing.html\n",
      "Please also refer to the documentation for alternative solver options:\n",
      "    https://scikit-learn.org/stable/modules/linear_model.html#logistic-regression\n",
      "  n_iter_i = _check_optimize_result(\n",
      "/Users/gabrielafichtner/anaconda3/lib/python3.10/site-packages/sklearn/linear_model/_logistic.py:458: ConvergenceWarning: lbfgs failed to converge (status=1):\n",
      "STOP: TOTAL NO. of ITERATIONS REACHED LIMIT.\n",
      "\n",
      "Increase the number of iterations (max_iter) or scale the data as shown in:\n",
      "    https://scikit-learn.org/stable/modules/preprocessing.html\n",
      "Please also refer to the documentation for alternative solver options:\n",
      "    https://scikit-learn.org/stable/modules/linear_model.html#logistic-regression\n",
      "  n_iter_i = _check_optimize_result(\n",
      "/Users/gabrielafichtner/anaconda3/lib/python3.10/site-packages/sklearn/linear_model/_logistic.py:458: ConvergenceWarning: lbfgs failed to converge (status=1):\n",
      "STOP: TOTAL NO. of ITERATIONS REACHED LIMIT.\n",
      "\n",
      "Increase the number of iterations (max_iter) or scale the data as shown in:\n",
      "    https://scikit-learn.org/stable/modules/preprocessing.html\n",
      "Please also refer to the documentation for alternative solver options:\n",
      "    https://scikit-learn.org/stable/modules/linear_model.html#logistic-regression\n",
      "  n_iter_i = _check_optimize_result(\n",
      "/Users/gabrielafichtner/anaconda3/lib/python3.10/site-packages/sklearn/linear_model/_logistic.py:458: ConvergenceWarning: lbfgs failed to converge (status=1):\n",
      "STOP: TOTAL NO. of ITERATIONS REACHED LIMIT.\n",
      "\n",
      "Increase the number of iterations (max_iter) or scale the data as shown in:\n",
      "    https://scikit-learn.org/stable/modules/preprocessing.html\n",
      "Please also refer to the documentation for alternative solver options:\n",
      "    https://scikit-learn.org/stable/modules/linear_model.html#logistic-regression\n",
      "  n_iter_i = _check_optimize_result(\n",
      "/Users/gabrielafichtner/anaconda3/lib/python3.10/site-packages/sklearn/linear_model/_logistic.py:458: ConvergenceWarning: lbfgs failed to converge (status=1):\n",
      "STOP: TOTAL NO. of ITERATIONS REACHED LIMIT.\n",
      "\n",
      "Increase the number of iterations (max_iter) or scale the data as shown in:\n",
      "    https://scikit-learn.org/stable/modules/preprocessing.html\n",
      "Please also refer to the documentation for alternative solver options:\n",
      "    https://scikit-learn.org/stable/modules/linear_model.html#logistic-regression\n",
      "  n_iter_i = _check_optimize_result(\n",
      "/Users/gabrielafichtner/anaconda3/lib/python3.10/site-packages/sklearn/linear_model/_logistic.py:458: ConvergenceWarning: lbfgs failed to converge (status=1):\n",
      "STOP: TOTAL NO. of ITERATIONS REACHED LIMIT.\n",
      "\n",
      "Increase the number of iterations (max_iter) or scale the data as shown in:\n",
      "    https://scikit-learn.org/stable/modules/preprocessing.html\n",
      "Please also refer to the documentation for alternative solver options:\n",
      "    https://scikit-learn.org/stable/modules/linear_model.html#logistic-regression\n",
      "  n_iter_i = _check_optimize_result(\n",
      "/Users/gabrielafichtner/anaconda3/lib/python3.10/site-packages/sklearn/linear_model/_logistic.py:458: ConvergenceWarning: lbfgs failed to converge (status=1):\n",
      "STOP: TOTAL NO. of ITERATIONS REACHED LIMIT.\n",
      "\n",
      "Increase the number of iterations (max_iter) or scale the data as shown in:\n",
      "    https://scikit-learn.org/stable/modules/preprocessing.html\n",
      "Please also refer to the documentation for alternative solver options:\n",
      "    https://scikit-learn.org/stable/modules/linear_model.html#logistic-regression\n",
      "  n_iter_i = _check_optimize_result(\n",
      "/Users/gabrielafichtner/anaconda3/lib/python3.10/site-packages/sklearn/linear_model/_logistic.py:458: ConvergenceWarning: lbfgs failed to converge (status=1):\n",
      "STOP: TOTAL NO. of ITERATIONS REACHED LIMIT.\n",
      "\n",
      "Increase the number of iterations (max_iter) or scale the data as shown in:\n",
      "    https://scikit-learn.org/stable/modules/preprocessing.html\n",
      "Please also refer to the documentation for alternative solver options:\n",
      "    https://scikit-learn.org/stable/modules/linear_model.html#logistic-regression\n",
      "  n_iter_i = _check_optimize_result(\n",
      "/Users/gabrielafichtner/anaconda3/lib/python3.10/site-packages/sklearn/linear_model/_logistic.py:458: ConvergenceWarning: lbfgs failed to converge (status=1):\n",
      "STOP: TOTAL NO. of ITERATIONS REACHED LIMIT.\n",
      "\n",
      "Increase the number of iterations (max_iter) or scale the data as shown in:\n",
      "    https://scikit-learn.org/stable/modules/preprocessing.html\n",
      "Please also refer to the documentation for alternative solver options:\n",
      "    https://scikit-learn.org/stable/modules/linear_model.html#logistic-regression\n",
      "  n_iter_i = _check_optimize_result(\n",
      "/Users/gabrielafichtner/anaconda3/lib/python3.10/site-packages/sklearn/linear_model/_logistic.py:458: ConvergenceWarning: lbfgs failed to converge (status=1):\n",
      "STOP: TOTAL NO. of ITERATIONS REACHED LIMIT.\n",
      "\n",
      "Increase the number of iterations (max_iter) or scale the data as shown in:\n",
      "    https://scikit-learn.org/stable/modules/preprocessing.html\n",
      "Please also refer to the documentation for alternative solver options:\n",
      "    https://scikit-learn.org/stable/modules/linear_model.html#logistic-regression\n",
      "  n_iter_i = _check_optimize_result(\n",
      "/Users/gabrielafichtner/anaconda3/lib/python3.10/site-packages/sklearn/linear_model/_logistic.py:458: ConvergenceWarning: lbfgs failed to converge (status=1):\n",
      "STOP: TOTAL NO. of ITERATIONS REACHED LIMIT.\n",
      "\n",
      "Increase the number of iterations (max_iter) or scale the data as shown in:\n",
      "    https://scikit-learn.org/stable/modules/preprocessing.html\n",
      "Please also refer to the documentation for alternative solver options:\n",
      "    https://scikit-learn.org/stable/modules/linear_model.html#logistic-regression\n",
      "  n_iter_i = _check_optimize_result(\n",
      "/Users/gabrielafichtner/anaconda3/lib/python3.10/site-packages/sklearn/linear_model/_logistic.py:458: ConvergenceWarning: lbfgs failed to converge (status=1):\n",
      "STOP: TOTAL NO. of ITERATIONS REACHED LIMIT.\n",
      "\n",
      "Increase the number of iterations (max_iter) or scale the data as shown in:\n",
      "    https://scikit-learn.org/stable/modules/preprocessing.html\n",
      "Please also refer to the documentation for alternative solver options:\n",
      "    https://scikit-learn.org/stable/modules/linear_model.html#logistic-regression\n",
      "  n_iter_i = _check_optimize_result(\n",
      "/Users/gabrielafichtner/anaconda3/lib/python3.10/site-packages/sklearn/linear_model/_logistic.py:458: ConvergenceWarning: lbfgs failed to converge (status=1):\n",
      "STOP: TOTAL NO. of ITERATIONS REACHED LIMIT.\n",
      "\n",
      "Increase the number of iterations (max_iter) or scale the data as shown in:\n",
      "    https://scikit-learn.org/stable/modules/preprocessing.html\n",
      "Please also refer to the documentation for alternative solver options:\n",
      "    https://scikit-learn.org/stable/modules/linear_model.html#logistic-regression\n",
      "  n_iter_i = _check_optimize_result(\n"
     ]
    },
    {
     "name": "stderr",
     "output_type": "stream",
     "text": [
      "/Users/gabrielafichtner/anaconda3/lib/python3.10/site-packages/sklearn/linear_model/_logistic.py:458: ConvergenceWarning: lbfgs failed to converge (status=1):\n",
      "STOP: TOTAL NO. of ITERATIONS REACHED LIMIT.\n",
      "\n",
      "Increase the number of iterations (max_iter) or scale the data as shown in:\n",
      "    https://scikit-learn.org/stable/modules/preprocessing.html\n",
      "Please also refer to the documentation for alternative solver options:\n",
      "    https://scikit-learn.org/stable/modules/linear_model.html#logistic-regression\n",
      "  n_iter_i = _check_optimize_result(\n",
      "/Users/gabrielafichtner/anaconda3/lib/python3.10/site-packages/sklearn/linear_model/_logistic.py:458: ConvergenceWarning: lbfgs failed to converge (status=1):\n",
      "STOP: TOTAL NO. of ITERATIONS REACHED LIMIT.\n",
      "\n",
      "Increase the number of iterations (max_iter) or scale the data as shown in:\n",
      "    https://scikit-learn.org/stable/modules/preprocessing.html\n",
      "Please also refer to the documentation for alternative solver options:\n",
      "    https://scikit-learn.org/stable/modules/linear_model.html#logistic-regression\n",
      "  n_iter_i = _check_optimize_result(\n"
     ]
    },
    {
     "data": {
      "text/html": [
       "<style>#sk-container-id-2 {color: black;background-color: white;}#sk-container-id-2 pre{padding: 0;}#sk-container-id-2 div.sk-toggleable {background-color: white;}#sk-container-id-2 label.sk-toggleable__label {cursor: pointer;display: block;width: 100%;margin-bottom: 0;padding: 0.3em;box-sizing: border-box;text-align: center;}#sk-container-id-2 label.sk-toggleable__label-arrow:before {content: \"▸\";float: left;margin-right: 0.25em;color: #696969;}#sk-container-id-2 label.sk-toggleable__label-arrow:hover:before {color: black;}#sk-container-id-2 div.sk-estimator:hover label.sk-toggleable__label-arrow:before {color: black;}#sk-container-id-2 div.sk-toggleable__content {max-height: 0;max-width: 0;overflow: hidden;text-align: left;background-color: #f0f8ff;}#sk-container-id-2 div.sk-toggleable__content pre {margin: 0.2em;color: black;border-radius: 0.25em;background-color: #f0f8ff;}#sk-container-id-2 input.sk-toggleable__control:checked~div.sk-toggleable__content {max-height: 200px;max-width: 100%;overflow: auto;}#sk-container-id-2 input.sk-toggleable__control:checked~label.sk-toggleable__label-arrow:before {content: \"▾\";}#sk-container-id-2 div.sk-estimator input.sk-toggleable__control:checked~label.sk-toggleable__label {background-color: #d4ebff;}#sk-container-id-2 div.sk-label input.sk-toggleable__control:checked~label.sk-toggleable__label {background-color: #d4ebff;}#sk-container-id-2 input.sk-hidden--visually {border: 0;clip: rect(1px 1px 1px 1px);clip: rect(1px, 1px, 1px, 1px);height: 1px;margin: -1px;overflow: hidden;padding: 0;position: absolute;width: 1px;}#sk-container-id-2 div.sk-estimator {font-family: monospace;background-color: #f0f8ff;border: 1px dotted black;border-radius: 0.25em;box-sizing: border-box;margin-bottom: 0.5em;}#sk-container-id-2 div.sk-estimator:hover {background-color: #d4ebff;}#sk-container-id-2 div.sk-parallel-item::after {content: \"\";width: 100%;border-bottom: 1px solid gray;flex-grow: 1;}#sk-container-id-2 div.sk-label:hover label.sk-toggleable__label {background-color: #d4ebff;}#sk-container-id-2 div.sk-serial::before {content: \"\";position: absolute;border-left: 1px solid gray;box-sizing: border-box;top: 0;bottom: 0;left: 50%;z-index: 0;}#sk-container-id-2 div.sk-serial {display: flex;flex-direction: column;align-items: center;background-color: white;padding-right: 0.2em;padding-left: 0.2em;position: relative;}#sk-container-id-2 div.sk-item {position: relative;z-index: 1;}#sk-container-id-2 div.sk-parallel {display: flex;align-items: stretch;justify-content: center;background-color: white;position: relative;}#sk-container-id-2 div.sk-item::before, #sk-container-id-2 div.sk-parallel-item::before {content: \"\";position: absolute;border-left: 1px solid gray;box-sizing: border-box;top: 0;bottom: 0;left: 50%;z-index: -1;}#sk-container-id-2 div.sk-parallel-item {display: flex;flex-direction: column;z-index: 1;position: relative;background-color: white;}#sk-container-id-2 div.sk-parallel-item:first-child::after {align-self: flex-end;width: 50%;}#sk-container-id-2 div.sk-parallel-item:last-child::after {align-self: flex-start;width: 50%;}#sk-container-id-2 div.sk-parallel-item:only-child::after {width: 0;}#sk-container-id-2 div.sk-dashed-wrapped {border: 1px dashed gray;margin: 0 0.4em 0.5em 0.4em;box-sizing: border-box;padding-bottom: 0.4em;background-color: white;}#sk-container-id-2 div.sk-label label {font-family: monospace;font-weight: bold;display: inline-block;line-height: 1.2em;}#sk-container-id-2 div.sk-label-container {text-align: center;}#sk-container-id-2 div.sk-container {/* jupyter's `normalize.less` sets `[hidden] { display: none; }` but bootstrap.min.css set `[hidden] { display: none !important; }` so we also need the `!important` here to be able to override the default hidden behavior on the sphinx rendered scikit-learn.org. See: https://github.com/scikit-learn/scikit-learn/issues/21755 */display: inline-block !important;position: relative;}#sk-container-id-2 div.sk-text-repr-fallback {display: none;}</style><div id=\"sk-container-id-2\" class=\"sk-top-container\"><div class=\"sk-text-repr-fallback\"><pre>GridSearchCV(cv=5,\n",
       "             estimator=Pipeline(steps=[(&#x27;cvec&#x27;, CountVectorizer()),\n",
       "                                       (&#x27;logreg&#x27;, LogisticRegression())]),\n",
       "             param_grid={&#x27;cvec__max_features&#x27;: [None, 2000, 3000, 4000, 5000],\n",
       "                         &#x27;cvec__ngram_range&#x27;: [(1, 1), (1, 2)],\n",
       "                         &#x27;cvec__stop_words&#x27;: [None, &#x27;english&#x27;]})</pre><b>In a Jupyter environment, please rerun this cell to show the HTML representation or trust the notebook. <br />On GitHub, the HTML representation is unable to render, please try loading this page with nbviewer.org.</b></div><div class=\"sk-container\" hidden><div class=\"sk-item sk-dashed-wrapped\"><div class=\"sk-label-container\"><div class=\"sk-label sk-toggleable\"><input class=\"sk-toggleable__control sk-hidden--visually\" id=\"sk-estimator-id-2\" type=\"checkbox\" ><label for=\"sk-estimator-id-2\" class=\"sk-toggleable__label sk-toggleable__label-arrow\">GridSearchCV</label><div class=\"sk-toggleable__content\"><pre>GridSearchCV(cv=5,\n",
       "             estimator=Pipeline(steps=[(&#x27;cvec&#x27;, CountVectorizer()),\n",
       "                                       (&#x27;logreg&#x27;, LogisticRegression())]),\n",
       "             param_grid={&#x27;cvec__max_features&#x27;: [None, 2000, 3000, 4000, 5000],\n",
       "                         &#x27;cvec__ngram_range&#x27;: [(1, 1), (1, 2)],\n",
       "                         &#x27;cvec__stop_words&#x27;: [None, &#x27;english&#x27;]})</pre></div></div></div><div class=\"sk-parallel\"><div class=\"sk-parallel-item\"><div class=\"sk-item\"><div class=\"sk-label-container\"><div class=\"sk-label sk-toggleable\"><input class=\"sk-toggleable__control sk-hidden--visually\" id=\"sk-estimator-id-3\" type=\"checkbox\" ><label for=\"sk-estimator-id-3\" class=\"sk-toggleable__label sk-toggleable__label-arrow\">estimator: Pipeline</label><div class=\"sk-toggleable__content\"><pre>Pipeline(steps=[(&#x27;cvec&#x27;, CountVectorizer()), (&#x27;logreg&#x27;, LogisticRegression())])</pre></div></div></div><div class=\"sk-serial\"><div class=\"sk-item\"><div class=\"sk-serial\"><div class=\"sk-item\"><div class=\"sk-estimator sk-toggleable\"><input class=\"sk-toggleable__control sk-hidden--visually\" id=\"sk-estimator-id-4\" type=\"checkbox\" ><label for=\"sk-estimator-id-4\" class=\"sk-toggleable__label sk-toggleable__label-arrow\">CountVectorizer</label><div class=\"sk-toggleable__content\"><pre>CountVectorizer()</pre></div></div></div><div class=\"sk-item\"><div class=\"sk-estimator sk-toggleable\"><input class=\"sk-toggleable__control sk-hidden--visually\" id=\"sk-estimator-id-5\" type=\"checkbox\" ><label for=\"sk-estimator-id-5\" class=\"sk-toggleable__label sk-toggleable__label-arrow\">LogisticRegression</label><div class=\"sk-toggleable__content\"><pre>LogisticRegression()</pre></div></div></div></div></div></div></div></div></div></div></div></div>"
      ],
      "text/plain": [
       "GridSearchCV(cv=5,\n",
       "             estimator=Pipeline(steps=[('cvec', CountVectorizer()),\n",
       "                                       ('logreg', LogisticRegression())]),\n",
       "             param_grid={'cvec__max_features': [None, 2000, 3000, 4000, 5000],\n",
       "                         'cvec__ngram_range': [(1, 1), (1, 2)],\n",
       "                         'cvec__stop_words': [None, 'english']})"
      ]
     },
     "execution_count": 227,
     "metadata": {},
     "output_type": "execute_result"
    }
   ],
   "source": [
    "# Fit GridSearch to training data.\n",
    "gs_cvec.fit(X_train, y_train)"
   ]
  },
  {
   "cell_type": "code",
   "execution_count": 228,
   "id": "11365538",
   "metadata": {},
   "outputs": [
    {
     "data": {
      "text/plain": [
       "0.9973881246735156"
      ]
     },
     "execution_count": 228,
     "metadata": {},
     "output_type": "execute_result"
    }
   ],
   "source": [
    "# Score model on training set.\n",
    "gs_cvec.score(X_train, y_train)"
   ]
  },
  {
   "cell_type": "code",
   "execution_count": 229,
   "id": "a9071828",
   "metadata": {},
   "outputs": [
    {
     "data": {
      "text/plain": [
       "0.9326370757180157"
      ]
     },
     "execution_count": 229,
     "metadata": {},
     "output_type": "execute_result"
    }
   ],
   "source": [
    "# Score model on testing set.\n",
    "gs_cvec.score(X_test, y_test)"
   ]
  },
  {
   "cell_type": "code",
   "execution_count": null,
   "id": "b6f6c568",
   "metadata": {},
   "outputs": [],
   "source": [
    "numeric_features = [\"age\", \"fare\"]\n",
    "numeric_transformer = Pipeline(\n",
    "    steps=[(\"imputer\", SimpleImputer(strategy=\"median\")), (\"scaler\", StandardScaler())]\n",
    ")\n",
    "\n",
    "strings_features = [\"embarked\", \"sex\", \"pclass\"]\n",
    "categorical_transformer = Pipeline(\n",
    "    steps=[\n",
    "        (\"encoder\", OneHotEncoder(handle_unknown=\"ignore\")),\n",
    "        (\"selector\", SelectPercentile(chi2, percentile=50)),\n",
    "    ]\n",
    ")\n",
    "preprocessor = ColumnTransformer(\n",
    "    transformers=[\n",
    "        (\"num\", numeric_transformer, numeric_features),\n",
    "        (\"cat\", categorical_transformer, categorical_features),\n",
    "    ]\n",
    ")"
   ]
  },
  {
   "cell_type": "code",
   "execution_count": null,
   "id": "ff363ca6",
   "metadata": {},
   "outputs": [],
   "source": [
    "clf = Pipeline(\n",
    "    steps=[(\"preprocessor\", preprocessor), (\"classifier\", LogisticRegression())]\n",
    ")\n",
    "\n",
    "X_train, X_test, y_train, y_test = train_test_split(X, y, test_size=0.2, random_state=0)\n",
    "\n",
    "clf.fit(X_train, y_train)\n",
    "print(\"model score: %.3f\" % clf.score(X_test, y_test))"
   ]
  },
  {
   "cell_type": "code",
   "execution_count": null,
   "id": "691a126a",
   "metadata": {},
   "outputs": [],
   "source": []
  },
  {
   "cell_type": "code",
   "execution_count": null,
   "id": "f13b479e",
   "metadata": {},
   "outputs": [],
   "source": []
  },
  {
   "cell_type": "code",
   "execution_count": null,
   "id": "bd31d0d8",
   "metadata": {},
   "outputs": [],
   "source": []
  },
  {
   "cell_type": "code",
   "execution_count": null,
   "id": "979e8a51",
   "metadata": {},
   "outputs": [],
   "source": []
  },
  {
   "cell_type": "code",
   "execution_count": null,
   "id": "89f851d8",
   "metadata": {},
   "outputs": [],
   "source": []
  },
  {
   "cell_type": "code",
   "execution_count": null,
   "id": "5660c85b",
   "metadata": {},
   "outputs": [],
   "source": []
  },
  {
   "cell_type": "code",
   "execution_count": null,
   "id": "b12eae64",
   "metadata": {},
   "outputs": [],
   "source": []
  },
  {
   "cell_type": "code",
   "execution_count": null,
   "id": "2a7147e7",
   "metadata": {},
   "outputs": [],
   "source": []
  },
  {
   "cell_type": "code",
   "execution_count": null,
   "id": "6011d033",
   "metadata": {},
   "outputs": [],
   "source": []
  },
  {
   "cell_type": "code",
   "execution_count": null,
   "id": "ab1c97c1",
   "metadata": {},
   "outputs": [],
   "source": []
  },
  {
   "cell_type": "code",
   "execution_count": null,
   "id": "5feadf37",
   "metadata": {},
   "outputs": [],
   "source": []
  },
  {
   "cell_type": "code",
   "execution_count": null,
   "id": "b2d76207",
   "metadata": {},
   "outputs": [],
   "source": []
  },
  {
   "cell_type": "code",
   "execution_count": null,
   "id": "47b2bea8",
   "metadata": {},
   "outputs": [],
   "source": []
  },
  {
   "cell_type": "markdown",
   "id": "b9898b13",
   "metadata": {},
   "source": [
    "## Logistic Regression with sentiment analysis of the posts' descriptions"
   ]
  },
  {
   "cell_type": "code",
   "execution_count": 60,
   "id": "fcc93f94",
   "metadata": {},
   "outputs": [],
   "source": [
    "# Creating the columns with the negative, positive, neutral and compound scores\n",
    "sa = SentimentIntensityAnalyzer()\n",
    "date_marry['compounds'] = date_marry['self_text'].apply(lambda r: sa.polarity_scores(r)['compound'])\n",
    "date_marry['neg'] = date_marry['self_text'].apply(lambda r: sa.polarity_scores(r)['neg'])\n",
    "date_marry['neu'] = date_marry['self_text'].apply(lambda r: sa.polarity_scores(r)['neu'])\n",
    "date_marry['pos'] = date_marry['self_text'].apply(lambda r: sa.polarity_scores(r)['pos'])"
   ]
  },
  {
   "cell_type": "code",
   "execution_count": 61,
   "id": "4e5ebabf",
   "metadata": {},
   "outputs": [
    {
     "data": {
      "text/html": [
       "<div>\n",
       "<style scoped>\n",
       "    .dataframe tbody tr th:only-of-type {\n",
       "        vertical-align: middle;\n",
       "    }\n",
       "\n",
       "    .dataframe tbody tr th {\n",
       "        vertical-align: top;\n",
       "    }\n",
       "\n",
       "    .dataframe thead th {\n",
       "        text-align: right;\n",
       "    }\n",
       "</style>\n",
       "<table border=\"1\" class=\"dataframe\">\n",
       "  <thead>\n",
       "    <tr style=\"text-align: right;\">\n",
       "      <th></th>\n",
       "      <th>compounds</th>\n",
       "      <th>neg</th>\n",
       "      <th>neu</th>\n",
       "      <th>pos</th>\n",
       "    </tr>\n",
       "  </thead>\n",
       "  <tbody>\n",
       "    <tr>\n",
       "      <th>0</th>\n",
       "      <td>0.9412</td>\n",
       "      <td>0.018</td>\n",
       "      <td>0.831</td>\n",
       "      <td>0.152</td>\n",
       "    </tr>\n",
       "    <tr>\n",
       "      <th>1</th>\n",
       "      <td>-0.3253</td>\n",
       "      <td>0.153</td>\n",
       "      <td>0.718</td>\n",
       "      <td>0.130</td>\n",
       "    </tr>\n",
       "    <tr>\n",
       "      <th>2</th>\n",
       "      <td>0.4588</td>\n",
       "      <td>0.000</td>\n",
       "      <td>0.907</td>\n",
       "      <td>0.093</td>\n",
       "    </tr>\n",
       "    <tr>\n",
       "      <th>3</th>\n",
       "      <td>0.9722</td>\n",
       "      <td>0.016</td>\n",
       "      <td>0.770</td>\n",
       "      <td>0.213</td>\n",
       "    </tr>\n",
       "    <tr>\n",
       "      <th>4</th>\n",
       "      <td>-0.9372</td>\n",
       "      <td>0.173</td>\n",
       "      <td>0.730</td>\n",
       "      <td>0.097</td>\n",
       "    </tr>\n",
       "    <tr>\n",
       "      <th>...</th>\n",
       "      <td>...</td>\n",
       "      <td>...</td>\n",
       "      <td>...</td>\n",
       "      <td>...</td>\n",
       "    </tr>\n",
       "    <tr>\n",
       "      <th>7653</th>\n",
       "      <td>-0.8752</td>\n",
       "      <td>0.168</td>\n",
       "      <td>0.745</td>\n",
       "      <td>0.087</td>\n",
       "    </tr>\n",
       "    <tr>\n",
       "      <th>7654</th>\n",
       "      <td>-0.8495</td>\n",
       "      <td>0.091</td>\n",
       "      <td>0.826</td>\n",
       "      <td>0.083</td>\n",
       "    </tr>\n",
       "    <tr>\n",
       "      <th>7655</th>\n",
       "      <td>0.0000</td>\n",
       "      <td>0.000</td>\n",
       "      <td>1.000</td>\n",
       "      <td>0.000</td>\n",
       "    </tr>\n",
       "    <tr>\n",
       "      <th>7656</th>\n",
       "      <td>0.5287</td>\n",
       "      <td>0.031</td>\n",
       "      <td>0.942</td>\n",
       "      <td>0.027</td>\n",
       "    </tr>\n",
       "    <tr>\n",
       "      <th>7657</th>\n",
       "      <td>0.6361</td>\n",
       "      <td>0.064</td>\n",
       "      <td>0.830</td>\n",
       "      <td>0.105</td>\n",
       "    </tr>\n",
       "  </tbody>\n",
       "</table>\n",
       "<p>7658 rows × 4 columns</p>\n",
       "</div>"
      ],
      "text/plain": [
       "      compounds    neg    neu    pos\n",
       "0        0.9412  0.018  0.831  0.152\n",
       "1       -0.3253  0.153  0.718  0.130\n",
       "2        0.4588  0.000  0.907  0.093\n",
       "3        0.9722  0.016  0.770  0.213\n",
       "4       -0.9372  0.173  0.730  0.097\n",
       "...         ...    ...    ...    ...\n",
       "7653    -0.8752  0.168  0.745  0.087\n",
       "7654    -0.8495  0.091  0.826  0.083\n",
       "7655     0.0000  0.000  1.000  0.000\n",
       "7656     0.5287  0.031  0.942  0.027\n",
       "7657     0.6361  0.064  0.830  0.105\n",
       "\n",
       "[7658 rows x 4 columns]"
      ]
     },
     "execution_count": 61,
     "metadata": {},
     "output_type": "execute_result"
    }
   ],
   "source": [
    "# Checking the new columns\n",
    "date_marry[['compounds', 'neg', 'neu', 'pos']]"
   ]
  },
  {
   "cell_type": "code",
   "execution_count": 62,
   "id": "7b1d34bd",
   "metadata": {},
   "outputs": [],
   "source": [
    "# Defining X and y used to train, test split\n",
    "X = date_marry[['compounds', 'neg', 'neu', 'pos']]\n",
    "y = date_marry['subreddit']\n",
    "X_train, X_test, y_train, y_test = train_test_split(X, y)"
   ]
  },
  {
   "cell_type": "code",
   "execution_count": 63,
   "id": "795f47f1",
   "metadata": {},
   "outputs": [
    {
     "data": {
      "text/html": [
       "<style>#sk-container-id-1 {color: black;background-color: white;}#sk-container-id-1 pre{padding: 0;}#sk-container-id-1 div.sk-toggleable {background-color: white;}#sk-container-id-1 label.sk-toggleable__label {cursor: pointer;display: block;width: 100%;margin-bottom: 0;padding: 0.3em;box-sizing: border-box;text-align: center;}#sk-container-id-1 label.sk-toggleable__label-arrow:before {content: \"▸\";float: left;margin-right: 0.25em;color: #696969;}#sk-container-id-1 label.sk-toggleable__label-arrow:hover:before {color: black;}#sk-container-id-1 div.sk-estimator:hover label.sk-toggleable__label-arrow:before {color: black;}#sk-container-id-1 div.sk-toggleable__content {max-height: 0;max-width: 0;overflow: hidden;text-align: left;background-color: #f0f8ff;}#sk-container-id-1 div.sk-toggleable__content pre {margin: 0.2em;color: black;border-radius: 0.25em;background-color: #f0f8ff;}#sk-container-id-1 input.sk-toggleable__control:checked~div.sk-toggleable__content {max-height: 200px;max-width: 100%;overflow: auto;}#sk-container-id-1 input.sk-toggleable__control:checked~label.sk-toggleable__label-arrow:before {content: \"▾\";}#sk-container-id-1 div.sk-estimator input.sk-toggleable__control:checked~label.sk-toggleable__label {background-color: #d4ebff;}#sk-container-id-1 div.sk-label input.sk-toggleable__control:checked~label.sk-toggleable__label {background-color: #d4ebff;}#sk-container-id-1 input.sk-hidden--visually {border: 0;clip: rect(1px 1px 1px 1px);clip: rect(1px, 1px, 1px, 1px);height: 1px;margin: -1px;overflow: hidden;padding: 0;position: absolute;width: 1px;}#sk-container-id-1 div.sk-estimator {font-family: monospace;background-color: #f0f8ff;border: 1px dotted black;border-radius: 0.25em;box-sizing: border-box;margin-bottom: 0.5em;}#sk-container-id-1 div.sk-estimator:hover {background-color: #d4ebff;}#sk-container-id-1 div.sk-parallel-item::after {content: \"\";width: 100%;border-bottom: 1px solid gray;flex-grow: 1;}#sk-container-id-1 div.sk-label:hover label.sk-toggleable__label {background-color: #d4ebff;}#sk-container-id-1 div.sk-serial::before {content: \"\";position: absolute;border-left: 1px solid gray;box-sizing: border-box;top: 0;bottom: 0;left: 50%;z-index: 0;}#sk-container-id-1 div.sk-serial {display: flex;flex-direction: column;align-items: center;background-color: white;padding-right: 0.2em;padding-left: 0.2em;position: relative;}#sk-container-id-1 div.sk-item {position: relative;z-index: 1;}#sk-container-id-1 div.sk-parallel {display: flex;align-items: stretch;justify-content: center;background-color: white;position: relative;}#sk-container-id-1 div.sk-item::before, #sk-container-id-1 div.sk-parallel-item::before {content: \"\";position: absolute;border-left: 1px solid gray;box-sizing: border-box;top: 0;bottom: 0;left: 50%;z-index: -1;}#sk-container-id-1 div.sk-parallel-item {display: flex;flex-direction: column;z-index: 1;position: relative;background-color: white;}#sk-container-id-1 div.sk-parallel-item:first-child::after {align-self: flex-end;width: 50%;}#sk-container-id-1 div.sk-parallel-item:last-child::after {align-self: flex-start;width: 50%;}#sk-container-id-1 div.sk-parallel-item:only-child::after {width: 0;}#sk-container-id-1 div.sk-dashed-wrapped {border: 1px dashed gray;margin: 0 0.4em 0.5em 0.4em;box-sizing: border-box;padding-bottom: 0.4em;background-color: white;}#sk-container-id-1 div.sk-label label {font-family: monospace;font-weight: bold;display: inline-block;line-height: 1.2em;}#sk-container-id-1 div.sk-label-container {text-align: center;}#sk-container-id-1 div.sk-container {/* jupyter's `normalize.less` sets `[hidden] { display: none; }` but bootstrap.min.css set `[hidden] { display: none !important; }` so we also need the `!important` here to be able to override the default hidden behavior on the sphinx rendered scikit-learn.org. See: https://github.com/scikit-learn/scikit-learn/issues/21755 */display: inline-block !important;position: relative;}#sk-container-id-1 div.sk-text-repr-fallback {display: none;}</style><div id=\"sk-container-id-1\" class=\"sk-top-container\"><div class=\"sk-text-repr-fallback\"><pre>LogisticRegression()</pre><b>In a Jupyter environment, please rerun this cell to show the HTML representation or trust the notebook. <br />On GitHub, the HTML representation is unable to render, please try loading this page with nbviewer.org.</b></div><div class=\"sk-container\" hidden><div class=\"sk-item\"><div class=\"sk-estimator sk-toggleable\"><input class=\"sk-toggleable__control sk-hidden--visually\" id=\"sk-estimator-id-1\" type=\"checkbox\" checked><label for=\"sk-estimator-id-1\" class=\"sk-toggleable__label sk-toggleable__label-arrow\">LogisticRegression</label><div class=\"sk-toggleable__content\"><pre>LogisticRegression()</pre></div></div></div></div></div>"
      ],
      "text/plain": [
       "LogisticRegression()"
      ]
     },
     "execution_count": 63,
     "metadata": {},
     "output_type": "execute_result"
    }
   ],
   "source": [
    "# Fitting the logistic regression in the training data\n",
    "logreg = LogisticRegression()\n",
    "logreg.fit(X_train, y_train)"
   ]
  },
  {
   "cell_type": "code",
   "execution_count": 67,
   "id": "dac3e336",
   "metadata": {},
   "outputs": [
    {
     "name": "stdout",
     "output_type": "stream",
     "text": [
      "Training score of Logistic regression with just sentiment analysis: 0.6045620755702594\n",
      "Testing score of Logistic regression with just sentiment analysis: 0.5838120104438642\n"
     ]
    }
   ],
   "source": [
    "print(f'Training score of Logistic regression with just sentiment analysis: {logreg.score(X_train, y_train)}')\n",
    "print(f'Testing score of Logistic regression with just sentiment analysis: {logreg.score(X_test, y_test)}')"
   ]
  },
  {
   "cell_type": "markdown",
   "id": "4178e8c4",
   "metadata": {},
   "source": [
    "The Logistic Regression model considering only sentiment analysis got a score worse than the baseline in the test set, and it barely beats the baseline in the training set... Maybe these variables arent helpful when predicting which subreddit the post came from..."
   ]
  },
  {
   "cell_type": "code",
   "execution_count": 90,
   "id": "c3e203a2",
   "metadata": {},
   "outputs": [
    {
     "name": "stdout",
     "output_type": "stream",
     "text": [
      "<bound method _VectorizerMixin.get_stop_words of CountVectorizer(stop_words='english')>\n"
     ]
    }
   ],
   "source": [
    "print(CountVectorizer(stop_words = \"english\").get_stop_words)"
   ]
  },
  {
   "cell_type": "code",
   "execution_count": null,
   "id": "aebabf1e",
   "metadata": {},
   "outputs": [],
   "source": [
    "# W"
   ]
  },
  {
   "cell_type": "code",
   "execution_count": null,
   "id": "1ad3a84e",
   "metadata": {},
   "outputs": [],
   "source": []
  },
  {
   "cell_type": "code",
   "execution_count": null,
   "id": "bb1d2dc8",
   "metadata": {},
   "outputs": [],
   "source": []
  },
  {
   "cell_type": "code",
   "execution_count": null,
   "id": "d82c56b3",
   "metadata": {},
   "outputs": [],
   "source": []
  },
  {
   "cell_type": "code",
   "execution_count": null,
   "id": "d804d974",
   "metadata": {},
   "outputs": [],
   "source": []
  }
 ],
 "metadata": {
  "kernelspec": {
   "display_name": "Python 3 (ipykernel)",
   "language": "python",
   "name": "python3"
  },
  "language_info": {
   "codemirror_mode": {
    "name": "ipython",
    "version": 3
   },
   "file_extension": ".py",
   "mimetype": "text/x-python",
   "name": "python",
   "nbconvert_exporter": "python",
   "pygments_lexer": "ipython3",
   "version": "3.10.9"
  }
 },
 "nbformat": 4,
 "nbformat_minor": 5
}
