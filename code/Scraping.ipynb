{
 "cells": [
  {
   "cell_type": "code",
   "execution_count": 1,
   "id": "0b86a673",
   "metadata": {},
   "outputs": [],
   "source": [
    "import praw\n",
    "import pandas as pd\n",
    "import os\n",
    "from datetime import datetime\n",
    "from credentials import gf_id, gf_secret, gf_agent, gf_username, gf_password"
   ]
  },
  {
   "cell_type": "code",
   "execution_count": 2,
   "id": "ce138003",
   "metadata": {},
   "outputs": [],
   "source": [
    "reddit = praw.Reddit(\n",
    "client_id = gf_id,\n",
    "client_secret = gf_secret,\n",
    "user_agent = gf_agent,\n",
    "username = gf_username,\n",
    "pasword = gf_password\n",
    ")"
   ]
  },
  {
   "cell_type": "code",
   "execution_count": 3,
   "id": "ca7893db",
   "metadata": {},
   "outputs": [],
   "source": [
    "def combine_data(posts, label):\n",
    "    data = []\n",
    "    for post in posts:\n",
    "        data.append([post.title, post.selftext, post.subreddit])\n",
    "    return data"
   ]
  },
  {
   "cell_type": "markdown",
   "id": "02c76866",
   "metadata": {},
   "source": [
    "### Scraping subreddits\n",
    "- Getting title, text of posts and the respective subreddit <br>\n",
    "- Combining in one dataframe"
   ]
  },
  {
   "cell_type": "code",
   "execution_count": 4,
   "id": "46a30f11",
   "metadata": {},
   "outputs": [],
   "source": [
    "def subreddits_scraping(subreddits, folder):\n",
    "    \n",
    "    files = os.listdir(folder)\n",
    "    doc = '_'.join(subreddits)\n",
    "    \n",
    "    if '.ipynb_checkpoints' in files:\n",
    "        files.remove('.ipynb_checkpoints')\n",
    "    \n",
    "    for sub in subreddits:\n",
    "        subreddit = reddit.subreddit(sub)\n",
    "\n",
    "        posts_con = subreddit.controversial(limit=1000)\n",
    "        posts_top_year = subreddit.top(limit=1000, time_filter=\"year\")\n",
    "        posts_top_month = subreddit.top(limit=1000, time_filter=\"month\")\n",
    "        posts_top_week = subreddit.top(limit=1000, time_filter=\"week\")\n",
    "\n",
    "        data_con = combine_data(posts_con, 'con')\n",
    "        data_top_year = combine_data(posts_top_year, 'top_year')\n",
    "        data_top_month = combine_data(posts_top_month, 'top_month')\n",
    "        data_top_week = combine_data(posts_top_week, 'top_week')\n",
    "\n",
    "        df = pd.DataFrame(data_con + data_top_year + data_top_month + data_top_week, columns = ['title', 'self_text', 'subreddit'])\n",
    "        df = df.drop_duplicates()\n",
    "        time_now = datetime.now().strftime('%d-%m-%H-%M')\n",
    "        df.to_csv(folder+'/'+sub+time_now+'.csv', index=False, encoding='utf-8')\n",
    "\n",
    "    subs = pd.concat([pd.read_csv(folder+'/'+file) for file in files])\n",
    "    subs = subs[['title', 'self_text', 'subreddit']]\n",
    "    subs.drop_duplicates(inplace=True)\n",
    "    subs.to_csv(folder+'/'+doc+'.csv', index = False, encoding='utf-8') # encoding='utf-8'"
   ]
  },
  {
   "cell_type": "code",
   "execution_count": 5,
   "id": "8a24d6fe",
   "metadata": {},
   "outputs": [],
   "source": [
    "subreddits_scraping(['marriage', 'dating'],'../scrapes')"
   ]
  },
  {
   "cell_type": "code",
   "execution_count": 7,
   "id": "01e0dad6",
   "metadata": {},
   "outputs": [
    {
     "data": {
      "text/html": [
       "<div>\n",
       "<style scoped>\n",
       "    .dataframe tbody tr th:only-of-type {\n",
       "        vertical-align: middle;\n",
       "    }\n",
       "\n",
       "    .dataframe tbody tr th {\n",
       "        vertical-align: top;\n",
       "    }\n",
       "\n",
       "    .dataframe thead th {\n",
       "        text-align: right;\n",
       "    }\n",
       "</style>\n",
       "<table border=\"1\" class=\"dataframe\">\n",
       "  <thead>\n",
       "    <tr style=\"text-align: right;\">\n",
       "      <th></th>\n",
       "      <th>title</th>\n",
       "      <th>self_text</th>\n",
       "      <th>subreddit</th>\n",
       "    </tr>\n",
       "  </thead>\n",
       "  <tbody>\n",
       "    <tr>\n",
       "      <th>0</th>\n",
       "      <td>What does it mean when a girl says I don’t fee...</td>\n",
       "      <td>I had a date yesterday and I thought it was ok...</td>\n",
       "      <td>dating</td>\n",
       "    </tr>\n",
       "    <tr>\n",
       "      <th>1</th>\n",
       "      <td>why do some guys get hurt/bothered if you slee...</td>\n",
       "      <td>My ex recently found out I hooked up with some...</td>\n",
       "      <td>dating</td>\n",
       "    </tr>\n",
       "    <tr>\n",
       "      <th>2</th>\n",
       "      <td>Worst era to ever date in as a guy.</td>\n",
       "      <td>Is there a single (attractive) young woman (ea...</td>\n",
       "      <td>dating</td>\n",
       "    </tr>\n",
       "    <tr>\n",
       "      <th>3</th>\n",
       "      <td>Why do some men hate \"Vanilla women\"?</td>\n",
       "      <td>Hiya. Earlier today I got called a \"vanilla wo...</td>\n",
       "      <td>dating</td>\n",
       "    </tr>\n",
       "    <tr>\n",
       "      <th>4</th>\n",
       "      <td>Guys the Victim mentality WONT help you</td>\n",
       "      <td>I've been couple of years in this sub and that...</td>\n",
       "      <td>dating</td>\n",
       "    </tr>\n",
       "  </tbody>\n",
       "</table>\n",
       "</div>"
      ],
      "text/plain": [
       "                                               title  \\\n",
       "0  What does it mean when a girl says I don’t fee...   \n",
       "1  why do some guys get hurt/bothered if you slee...   \n",
       "2                Worst era to ever date in as a guy.   \n",
       "3              Why do some men hate \"Vanilla women\"?   \n",
       "4            Guys the Victim mentality WONT help you   \n",
       "\n",
       "                                           self_text subreddit  \n",
       "0  I had a date yesterday and I thought it was ok...    dating  \n",
       "1  My ex recently found out I hooked up with some...    dating  \n",
       "2  Is there a single (attractive) young woman (ea...    dating  \n",
       "3  Hiya. Earlier today I got called a \"vanilla wo...    dating  \n",
       "4  I've been couple of years in this sub and that...    dating  "
      ]
     },
     "execution_count": 7,
     "metadata": {},
     "output_type": "execute_result"
    }
   ],
   "source": [
    "marriage_dating = pd.read_csv('../scrapes/marriage_dating.csv')\n",
    "marriage_dating.head()"
   ]
  },
  {
   "cell_type": "code",
   "execution_count": 8,
   "id": "d704735f",
   "metadata": {},
   "outputs": [
    {
     "data": {
      "text/plain": [
       "(7998, 3)"
      ]
     },
     "execution_count": 8,
     "metadata": {},
     "output_type": "execute_result"
    }
   ],
   "source": [
    "marriage_dating.shape"
   ]
  },
  {
   "cell_type": "code",
   "execution_count": 9,
   "id": "57095ad6",
   "metadata": {},
   "outputs": [
    {
     "data": {
      "text/plain": [
       "dating      0.574394\n",
       "Marriage    0.425606\n",
       "Name: subreddit, dtype: float64"
      ]
     },
     "execution_count": 9,
     "metadata": {},
     "output_type": "execute_result"
    }
   ],
   "source": [
    "marriage_dating['subreddit'].value_counts(normalize=True)"
   ]
  },
  {
   "cell_type": "code",
   "execution_count": 10,
   "id": "fd3002e0",
   "metadata": {},
   "outputs": [
    {
     "data": {
      "text/plain": [
       "title          0\n",
       "self_text    340\n",
       "subreddit      0\n",
       "dtype: int64"
      ]
     },
     "execution_count": 10,
     "metadata": {},
     "output_type": "execute_result"
    }
   ],
   "source": [
    "marriage_dating.isna().sum()"
   ]
  },
  {
   "cell_type": "code",
   "execution_count": 11,
   "id": "fc522fcc",
   "metadata": {},
   "outputs": [
    {
     "data": {
      "text/plain": [
       "title        0\n",
       "self_text    0\n",
       "subreddit    0\n",
       "dtype: int64"
      ]
     },
     "execution_count": 11,
     "metadata": {},
     "output_type": "execute_result"
    }
   ],
   "source": [
    "marriage_dating.dropna(inplace=True)\n",
    "marriage_dating.isna().sum()"
   ]
  },
  {
   "cell_type": "code",
   "execution_count": 12,
   "id": "79ca3ef7",
   "metadata": {},
   "outputs": [
    {
     "data": {
      "text/plain": [
       "dating      0.599373\n",
       "Marriage    0.400627\n",
       "Name: subreddit, dtype: float64"
      ]
     },
     "execution_count": 12,
     "metadata": {},
     "output_type": "execute_result"
    }
   ],
   "source": [
    "marriage_dating['subreddit'].value_counts(normalize=True)"
   ]
  },
  {
   "cell_type": "code",
   "execution_count": 13,
   "id": "f45aece2",
   "metadata": {},
   "outputs": [],
   "source": [
    "marriage_dating.to_csv('../output/marriage_dating.csv')"
   ]
  }
 ],
 "metadata": {
  "kernelspec": {
   "display_name": "Python 3 (ipykernel)",
   "language": "python",
   "name": "python3"
  },
  "language_info": {
   "codemirror_mode": {
    "name": "ipython",
    "version": 3
   },
   "file_extension": ".py",
   "mimetype": "text/x-python",
   "name": "python",
   "nbconvert_exporter": "python",
   "pygments_lexer": "ipython3",
   "version": "3.10.9"
  }
 },
 "nbformat": 4,
 "nbformat_minor": 5
}
